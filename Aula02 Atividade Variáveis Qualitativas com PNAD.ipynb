{
 "cells": [
  {
   "cell_type": "markdown",
   "metadata": {},
   "source": [
    "___\n",
    "# Atividade: Variáveis qualitativas com a PNAD (ALUNOS)\n",
    "___\n",
    "\n",
    "## Aula 02\n",
    "\n",
    "\n",
    "**Link úteis:**\n",
    "1.\tLeitura prévia necessária: Magalhães e Lima (7ª. Edição): pág. 9 a 16 – destacando para variáveis qualitativas.\n",
    "2.\t10 Minutes to Pandas: http://pandas.pydata.org/pandas-docs/stable/10min.html\n",
    "3.\tEssential Basic Functionality: http://pandas.pydata.org/pandas-docs/stable/basics.html\n",
    "4.  Estude a aula `Aula02 Análise Exploratoria Variáveis Qualitativas-ALUNOS.ipynb`, o qual contém uma introdução ao Jupyter Notebook. A publicação dessa aula tem como objetivo auxiliá-lo, caso queira, no desenvolvimento dos seus próximos programas, como esta atividade.\n",
    "\n",
    "**Hoje:**\n",
    "1.\tAnalisar variáveis qualitativas de forma uni e bivariadas utilizando tabelas de frequências e gráficos de barras e de pizza (ou setor).\n",
    "2.  Trabalhar com a base de dados da PNAD 2013 - Pesquisa Nacional por Amostra de Domicílios\n",
    "\n",
    "**Próxima aula:**\n",
    "1.\tLeitura prévia necessária: Magalhães e Lima (7ª. Edição): pág. 9 a 17 – destacando para variáveis quantitativas; pág. 106 e 107 (Definição 4.1 e Exemplo 4.1).\n",
    "\n",
    "___\n"
   ]
  },
  {
   "cell_type": "markdown",
   "metadata": {},
   "source": [
    "___\n",
    "## <font color='blue'>PNAD 2013 – PESQUISA NACIONAL POR AMOSTRA DE DOMICÍLIOS</font>\n",
    "\n",
    "**Base de dados reduzida: ** `pes2013A.txt` (75 MB)\n",
    "[Acesse a base de dados aqui: https://dl.dropboxusercontent.com/u/65763596/Aula02/pes2013A.txt] \n",
    "\n",
    "**Dicionário das variáveis: ** `Dicionário de variáveis de pessoas - PNAD 2013.xlsx`\n",
    "[Acesse dicionário aqui: https://dl.dropboxusercontent.com/u/65763596/Aula02/Dicion%C3%A1rio%20de%20vari%C3%A1veis%20de%20pessoas%20-%20PNAD%202013.xls]\n",
    "\n",
    "\n",
    "Muitos especialistas na área de negócios dizem que empresários mais bem sucedidos são aqueles que fazem um planejamento antes de começar seu próprio negócio. Nessa visão, imagine que o Sr. Gold tenha como grande objetivo abrir uma nova faculdade e para isso deseja estudar o perfil do estudante que cursa ensino médio ou pré-vestibular e do que cursa ensino superior. \n",
    "\n",
    "Assuma que as variáveis de interesse a respeito dos estudantes sejam relativamente as mesmas de 2013 até o momento atual. Nesse caso, seja criativo para ajudar o Sr. Gold que deseja abrir seu negócio, mas não tem certeza sobre quais variáveis o interessam. \n",
    "\n",
    "Vocês podem ajudá-lo?!  \n",
    "\n",
    "As variáveis a seguir devem fazer parte da sua análise:\n",
    "\n",
    "* V0302: sexo\n",
    "* V0404: cor ou raça\n",
    "* V6002: rede de ensino\n",
    "* V4802: nível de ensino e grupos de séries do ensino fundamental que frequentavam (todos os estudantes)\n",
    "* V9001: trabalhou na semana de referencia\n",
    "* V9046: recebeu auxilio educação ou creche no mês de referência\n",
    "\n",
    "** Crie uma variável com região do indivíduo amostrado considerando a variável `UF` que define o estado e também trabalhe com essa nova variável em suas análises. ** \n",
    "\n",
    "** Escolha mais pelo menos DUAS variáveis qualitativas para completar sua análise!! **\n",
    "\n",
    "Faça uma análise exploratória apenas com as variáveis qualitativas com foco no objetivo do Sr. Gold.\n",
    "\n",
    "Sua análise deve conter pelo menos uma das seguintes visualizações:\n",
    "\n",
    "1. Gráfico de colunas (bar) e setor (pie) com as frequências relativas cadas categorias das variáveis qualitativas.\n",
    "2. Tabela cruzada entre pares de variaveis qualitativas. Montar o gráfico de colunas. Repetir o processo habilitando a opção \"stacked=True\".\n",
    "\n",
    "\n",
    "___\n",
    "\n",
    "\n",
    "<font color='red'>\n",
    "Crie um repositório chamado CD em seu Github\n",
    "</font>\n",
    "\n",
    "\n",
    "Neste repositório, salve seu trabalho numa pasta chamada aula2\n",
    "\n",
    "Por exemplo, se seu login for *pikachu* o projeto vai estar na pasta:\n",
    "\n",
    "https://github.com/<font color=red>pikachu/CD/aula2</font>\n",
    "\n",
    "\n",
    "\n",
    "## <font color='red'>Terça-feira (dia 16/08), no horário de atendimento da sua turma, deverá apresentar aos NINJAS!!</font>\n",
    "___"
   ]
  },
  {
   "cell_type": "code",
   "execution_count": 42,
   "metadata": {
    "collapsed": true
   },
   "outputs": [],
   "source": [
    "%matplotlib inline\n",
    "import pandas as pd\n",
    "import matplotlib.pyplot as plt\n",
    "import os"
   ]
  },
  {
   "cell_type": "code",
   "execution_count": null,
   "metadata": {
    "collapsed": false
   },
   "outputs": [
    {
     "name": "stdout",
     "output_type": "stream",
     "text": [
      "Esperamos trabalhar no diretório\n",
      "/Users/Carlosjunior/Documents/CHL/Insper fisico/2 semestre/Ciencia dos Dados\n"
     ]
    }
   ],
   "source": [
    "print('Esperamos trabalhar no diretório')\n",
    "print(os.getcwd())"
   ]
  },
  {
   "cell_type": "code",
   "execution_count": null,
   "metadata": {
    "collapsed": false
   },
   "outputs": [],
   "source": [
    "dados = pd.read_excel('PNAD2013A.xlsx')"
   ]
  },
  {
   "cell_type": "code",
   "execution_count": null,
   "metadata": {
    "collapsed": false
   },
   "outputs": [],
   "source": [
    "dados.shape"
   ]
  },
  {
   "cell_type": "code",
   "execution_count": null,
   "metadata": {
    "collapsed": false
   },
   "outputs": [],
   "source": [
    "dados.head()"
   ]
  },
  {
   "cell_type": "code",
   "execution_count": null,
   "metadata": {
    "collapsed": false
   },
   "outputs": [],
   "source": [
    "n=dados.shape[0]\n",
    "print(n)"
   ]
  },
  {
   "cell_type": "code",
   "execution_count": null,
   "metadata": {
    "collapsed": false
   },
   "outputs": [],
   "source": [
    "#Sexo\n",
    "dados.V0302.cat.categories = ('Feminino','Masculino')\n",
    "\n",
    "\n",
    "#Raça\n",
    "dados.V0404.cat.categories = ('Branca','Preta','Amarela','Parda','Indigena','Sem declaração')\n",
    "\n",
    "\n",
    "#Rede de ensino\n",
    "dados.V6002.cat.categories = ('Pública','Privada')\n",
    "\n",
    "\n",
    "#Nivel de ensino\n",
    "dados.V4802.cat.categories = ('Maternal, jardim de infância etc.','Classe de alfabetização','Alfabetização de adultos',\n",
    "'1ª a 4ª séries do ensino fundamental regular em 8 anos ou de educação de jovens e adultos','5ª a 8ª séries do ensino fundamental regular em 8 anos ou de educação de jovens e adultos',\n",
    "'1ª série do ensino fundamental regular em 9 anos','2ª a 5ª séries do ensino fundamental regular em 9 anos','6ª a 9ª séries do ensino fundamental regular em 9 anos ',\n",
    "'Educação de jovens e adultos não seriado do ensino fundamental','Ensino médio, inclusive pré-vestibular','Superior, inclusive mestrado ou doutorado')\n",
    "\n",
    "\n",
    "#Se trabalho\n",
    "dados.V9001.cat.categories = ('Sim','Não')\n",
    "\n",
    "\n",
    "#Se recebe auxilio edu ou creceh\n",
    "dados.V9046.cat.categories = ('Sim','Não')\n",
    "\n",
    "\n",
    "#UF\n",
    "dados.UF.cat.categories = ('Rondônia','Acre','Amazonas','Roraima','Pará','Amapá','Tocantins','Maranhão','Piauí','Ceará','Rio Grande do Norte','Paraíba','Pernambuco','Alagoas','Sergipe','Bahia','Minas Gerais','Espirito Santo','Rio de Janeiro','São Paulo','Parana','Santa Catarina','Rio Grande do Sul','Mato Grosso do Sul','Mato Grosso','Goiás','Distrito Federal')\n"
   ]
  },
  {
   "cell_type": "code",
   "execution_count": null,
   "metadata": {
    "collapsed": false
   },
   "outputs": [],
   "source": [
    "print('''Sexo''')\n",
    "ut1 = (dados.V0302.value_counts()/n*100).round(decimals=1)\n",
    "print(ut1,'\\n')\n",
    "\n",
    "print(''' \n",
    "Cor ou raça''')\n",
    "ut2 = (dados.V0404.value_counts()/n*100).round(decimals=1)\n",
    "print(ut2,'\\n')\n",
    "\n",
    "print(''' \n",
    "Rede de ensino''')\n",
    "ut3 = (dados.V6002.value_counts()/n*100).round(decimals=1)\n",
    "print(ut3,'\\n')\n",
    "\n",
    "print(''' \n",
    "Nível de ensino e grupos de séries do ensino fundamental que frequentavam (todos os estudantes)''')\n",
    "ut4 = (dados.V4802.value_counts()/n*100).round(decimals=1)\n",
    "print(ut4,'\\n')\n",
    "\n",
    "print(''' \n",
    "Trabalhou na semana de referencia''')\n",
    "ut5 = (dados.V9001.value_counts()/n*100).round(decimals=1)\n",
    "print(ut5,'\\n')\n",
    "\n",
    "print(''' \n",
    "Recebeu auxilio educação ou creche no mês de referência''')\n",
    "ut6 = (dados.V9046.value_counts()/n*100).round(decimals=1)\n",
    "print(ut6,'\\n')\n",
    "\n",
    "print(''' \n",
    "UF''')\n",
    "ut7 = (dados.UF.value_counts()/n*100).round(decimals=1)\n",
    "print(ut7,'\\n')\n",
    "\n",
    "print(''' \n",
    "Nordeste''')\n",
    "ut8 = (dados[dados.UF < 20].UF.value_counts()/n*100).round(decimals=1)\n",
    "#print(ut8,'\\n')"
   ]
  },
  {
   "cell_type": "code",
   "execution_count": null,
   "metadata": {
    "collapsed": false
   },
   "outputs": [],
   "source": [
    "dados.V0302=dados.V0302.astype('category')\n",
    "dados.V0404=dados.V0404.astype('category')\n",
    "dados.V6002=dados.V6002.astype('category')\n",
    "dados.V4802=dados.V4802.astype('category')\n",
    "dados.V9001=dados.V9001.astype('category')\n",
    "dados.V9046=dados.V9046.astype('category')\n",
    "dados.UF=dados.UF.astype('category')"
   ]
  },
  {
   "cell_type": "code",
   "execution_count": null,
   "metadata": {
    "collapsed": false
   },
   "outputs": [],
   "source": [
    "#Nivel do estudante por sexo\n",
    "ct = pd.crosstab(dados.V0302,dados.V4802,colnames=['Nivel de ensino'], rownames=['Sexo'])\n",
    "\n",
    "#Nivel do estudante por cor/raça\n",
    "ct1 = pd.crosstab(dados.V0404,dados.V4802,colnames=['Nivel de ensino'], rownames=['Raça'])\n",
    "\n",
    "#Nivel do estudante por rede de ensino\n",
    "ct2 = pd.crosstab(dados.V6002,dados.V4802,colnames=['Nivel de ensino'], rownames=['Rede de Ensino'])\n",
    "\n",
    "#Nivel do estudante por ter trabalhado na semana\n",
    "ct3 = pd.crosstab(dados.V9001,dados.V4802,colnames=['Nivel de ensino'], rownames=['Trabalhou na semana'])\n",
    "\n",
    "#Nivel do estudante por recebeu auxilio creche/educação no mes de referencia\n",
    "ct4 = pd.crosstab(dados.V9046,dados.V4802,colnames=['Nivel de ensino'], rownames=['Recebeu auxilio creche/educação no mes de referencia'])\n",
    "\n",
    "#Nivel do estudante por estado\n",
    "ct5 = pd.crosstab(dados.UF,dados.V4802,rownames=['Estado'], colnames=['Nivel de ensino'])"
   ]
  },
  {
   "cell_type": "code",
   "execution_count": null,
   "metadata": {
    "collapsed": false
   },
   "outputs": [],
   "source": [
    "#ct"
   ]
  },
  {
   "cell_type": "code",
   "execution_count": null,
   "metadata": {
    "collapsed": false
   },
   "outputs": [],
   "source": [
    "soma_tabela = ct.sum().sum()\n",
    "ctn=(ct*100/soma_tabela)\n",
    "novatab = ctn.iloc[:,9:11]\n",
    "novatab"
   ]
  },
  {
   "cell_type": "code",
   "execution_count": null,
   "metadata": {
    "collapsed": false
   },
   "outputs": [],
   "source": [
    "novatab.plot(kind = 'bar').legend(bbox_to_anchor=(0.95,-0.30))\n",
    "plt.title('N¡ivel de Ensino pelo sexo')"
   ]
  },
  {
   "cell_type": "code",
   "execution_count": null,
   "metadata": {
    "collapsed": false
   },
   "outputs": [],
   "source": [
    "#ct1"
   ]
  },
  {
   "cell_type": "code",
   "execution_count": null,
   "metadata": {
    "collapsed": false
   },
   "outputs": [],
   "source": [
    "soma_tabela1 = ct1.sum().sum()\n",
    "ctn1=ct1*100/soma_tabela1\n",
    "novatab1 = ctn1.iloc[:,9:11]\n",
    "novatab1"
   ]
  },
  {
   "cell_type": "code",
   "execution_count": null,
   "metadata": {
    "collapsed": false
   },
   "outputs": [],
   "source": [
    "novatab1.plot(kind = 'bar').legend(bbox_to_anchor=(0.95,-0.45))\n",
    "plt.title('Nível de Ensino pela cor/raça')"
   ]
  },
  {
   "cell_type": "code",
   "execution_count": null,
   "metadata": {
    "collapsed": false
   },
   "outputs": [],
   "source": [
    "#ct2"
   ]
  },
  {
   "cell_type": "code",
   "execution_count": null,
   "metadata": {
    "collapsed": false
   },
   "outputs": [],
   "source": [
    "soma_tabela2 = ct.sum().sum()\n",
    "ctn2=ct2*100/soma_tabela2\n",
    "novatab2 = ctn2.iloc[:,9:11]\n",
    "novatab2"
   ]
  },
  {
   "cell_type": "code",
   "execution_count": null,
   "metadata": {
    "collapsed": false
   },
   "outputs": [],
   "source": [
    "novatab2.plot(kind = 'bar').legend(bbox_to_anchor=(0.95,-0.25))\n",
    "plt.title('Nível de ensino pela Rede de Ensino')"
   ]
  },
  {
   "cell_type": "code",
   "execution_count": null,
   "metadata": {
    "collapsed": false
   },
   "outputs": [],
   "source": [
    "#ct3"
   ]
  },
  {
   "cell_type": "code",
   "execution_count": null,
   "metadata": {
    "collapsed": false
   },
   "outputs": [],
   "source": [
    "soma_tabela3 = ct3.sum().sum()\n",
    "ctn3=ct3*100/soma_tabela3\n",
    "novatab3 = ctn3.iloc[:,9:11]\n",
    "novatab3"
   ]
  },
  {
   "cell_type": "code",
   "execution_count": null,
   "metadata": {
    "collapsed": false
   },
   "outputs": [],
   "source": [
    "novatab3.plot(kind = 'bar').legend(bbox_to_anchor=(0.95,-0.2))\n",
    "plt.title('Nível de ensino por ter trabalhado')"
   ]
  },
  {
   "cell_type": "code",
   "execution_count": null,
   "metadata": {
    "collapsed": false
   },
   "outputs": [],
   "source": [
    "#ct4"
   ]
  },
  {
   "cell_type": "code",
   "execution_count": null,
   "metadata": {
    "collapsed": false
   },
   "outputs": [],
   "source": [
    "soma_tabela4 = ct4.sum().sum()\n",
    "ctn4=ct4*100/soma_tabela4\n",
    "novatab4 = ctn4.iloc[:,9:11]\n",
    "novatab4"
   ]
  },
  {
   "cell_type": "code",
   "execution_count": null,
   "metadata": {
    "collapsed": false
   },
   "outputs": [],
   "source": [
    "novatab4.plot(kind = 'bar').legend(bbox_to_anchor=(0.95,-0.2))\n",
    "plt.title('Nivel do ensino pelo auxilio creche/educação')"
   ]
  },
  {
   "cell_type": "code",
   "execution_count": null,
   "metadata": {
    "collapsed": false
   },
   "outputs": [],
   "source": [
    "#ct5"
   ]
  },
  {
   "cell_type": "code",
   "execution_count": null,
   "metadata": {
    "collapsed": false
   },
   "outputs": [],
   "source": [
    "soma_tabela5 = ct5.sum().sum()\n",
    "ctn5=ct5*100/soma_tabela5\n",
    "novatab5 = ctn5.iloc[:,9:11]\n",
    "novatab5.sort_values(by ='Ensino médio, inclusive pré-vestibular')"
   ]
  },
  {
   "cell_type": "code",
   "execution_count": null,
   "metadata": {
    "collapsed": false
   },
   "outputs": [],
   "source": [
    "novatab5.plot(kind = 'bar').legend(bbox_to_anchor = (0.95,-0.51))\n",
    "plt.title('N¡ivel de ensino por Estado')"
   ]
  },
  {
   "cell_type": "markdown",
   "metadata": {},
   "source": [
    "## Conclusão\n",
    "\n",
    "O perfil do aluno que cursa o ensino médio, incluindo o pré vestibular, e que cursa o ensino superior é: predominantemente masculino, com maior predominancia de origem inígena e preta, sendo que a maior parte dos estudantes que cursam o ensino médio vem de escola pública enquanto maior parte que cursa ensino superior estudou em escolas particulares. Além disso, aqueles com ensino médio trabalham menos que aqueles que cursam o ensino médio, a maioria desse estudantes não recebem auxílio educação. A estado que concentra maior numero desses tipos de estudantes é São Paulo"
   ]
  },
  {
   "cell_type": "code",
   "execution_count": null,
   "metadata": {
    "collapsed": true
   },
   "outputs": [],
   "source": []
  }
 ],
 "metadata": {
  "anaconda-cloud": {},
  "kernelspec": {
   "display_name": "Python 3",
   "language": "python",
   "name": "python3"
  },
  "language_info": {
   "codemirror_mode": {
    "name": "ipython",
    "version": 3
   },
   "file_extension": ".py",
   "mimetype": "text/x-python",
   "name": "python",
   "nbconvert_exporter": "python",
   "pygments_lexer": "ipython3",
   "version": "3.5.2"
  }
 },
 "nbformat": 4,
 "nbformat_minor": 0
}
