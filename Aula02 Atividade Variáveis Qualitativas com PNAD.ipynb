{
 "cells": [
  {
   "cell_type": "markdown",
   "metadata": {},
   "source": [
    "___\n",
    "# Atividade: Variáveis qualitativas com a PNAD (ALUNOS)\n",
    "___\n",
    "\n",
    "## Aula 02\n",
    "\n",
    "\n",
    "**Link úteis:**\n",
    "1.\tLeitura prévia necessária: Magalhães e Lima (7ª. Edição): pág. 9 a 16 – destacando para variáveis qualitativas.\n",
    "2.\t10 Minutes to Pandas: http://pandas.pydata.org/pandas-docs/stable/10min.html\n",
    "3.\tEssential Basic Functionality: http://pandas.pydata.org/pandas-docs/stable/basics.html\n",
    "4.  Estude a aula `Aula02 Análise Exploratoria Variáveis Qualitativas-ALUNOS.ipynb`, o qual contém uma introdução ao Jupyter Notebook. A publicação dessa aula tem como objetivo auxiliá-lo, caso queira, no desenvolvimento dos seus próximos programas, como esta atividade.\n",
    "\n",
    "**Hoje:**\n",
    "1.\tAnalisar variáveis qualitativas de forma uni e bivariadas utilizando tabelas de frequências e gráficos de barras e de pizza (ou setor).\n",
    "2.  Trabalhar com a base de dados da PNAD 2013 - Pesquisa Nacional por Amostra de Domicílios\n",
    "\n",
    "**Próxima aula:**\n",
    "1.\tLeitura prévia necessária: Magalhães e Lima (7ª. Edição): pág. 9 a 17 – destacando para variáveis quantitativas; pág. 106 e 107 (Definição 4.1 e Exemplo 4.1).\n",
    "\n",
    "___\n"
   ]
  },
  {
   "cell_type": "markdown",
   "metadata": {},
   "source": [
    "___\n",
    "## <font color='blue'>PNAD 2013 – PESQUISA NACIONAL POR AMOSTRA DE DOMICÍLIOS</font>\n",
    "\n",
    "**Base de dados reduzida: ** `pes2013A.txt` (75 MB)\n",
    "[Acesse a base de dados aqui: https://dl.dropboxusercontent.com/u/65763596/Aula02/pes2013A.txt] \n",
    "\n",
    "**Dicionário das variáveis: ** `Dicionário de variáveis de pessoas - PNAD 2013.xlsx`\n",
    "[Acesse dicionário aqui: https://dl.dropboxusercontent.com/u/65763596/Aula02/Dicion%C3%A1rio%20de%20vari%C3%A1veis%20de%20pessoas%20-%20PNAD%202013.xls]\n",
    "\n",
    "\n",
    "Muitos especialistas na área de negócios dizem que empresários mais bem sucedidos são aqueles que fazem um planejamento antes de começar seu próprio negócio. Nessa visão, imagine que o Sr. Gold tenha como grande objetivo abrir uma nova faculdade e para isso deseja estudar o perfil do estudante que cursa ensino médio ou pré-vestibular e do que cursa ensino superior. \n",
    "\n",
    "Assuma que as variáveis de interesse a respeito dos estudantes sejam relativamente as mesmas de 2013 até o momento atual. Nesse caso, seja criativo para ajudar o Sr. Gold que deseja abrir seu negócio, mas não tem certeza sobre quais variáveis o interessam. \n",
    "\n",
    "Vocês podem ajudá-lo?!  \n",
    "\n",
    "As variáveis a seguir devem fazer parte da sua análise:\n",
    "\n",
    "* V0302: sexo\n",
    "* V0404: cor ou raça\n",
    "* V6002: rede de ensino\n",
    "* V4802: nível de ensino e grupos de séries do ensino fundamental que frequentavam (todos os estudantes)\n",
    "* V9001: trabalhou na semana de referencia\n",
    "* V9046: recebeu auxilio educação ou creche no mês de referência\n",
    "\n",
    "** Crie uma variável com região do indivíduo amostrado considerando a variável `UF` que define o estado e também trabalhe com essa nova variável em suas análises. ** \n",
    "\n",
    "** Escolha mais pelo menos DUAS variáveis qualitativas para completar sua análise!! **\n",
    "\n",
    "Faça uma análise exploratória apenas com as variáveis qualitativas com foco no objetivo do Sr. Gold.\n",
    "\n",
    "Sua análise deve conter pelo menos uma das seguintes visualizações:\n",
    "\n",
    "1. Gráfico de colunas (bar) e setor (pie) com as frequências relativas cadas categorias das variáveis qualitativas.\n",
    "2. Tabela cruzada entre pares de variaveis qualitativas. Montar o gráfico de colunas. Repetir o processo habilitando a opção \"stacked=True\".\n",
    "\n",
    "\n",
    "___\n",
    "\n",
    "\n",
    "<font color='red'>\n",
    "Crie um repositório chamado CD em seu Github\n",
    "</font>\n",
    "\n",
    "\n",
    "Neste repositório, salve seu trabalho numa pasta chamada aula2\n",
    "\n",
    "Por exemplo, se seu login for *pikachu* o projeto vai estar na pasta:\n",
    "\n",
    "https://github.com/<font color=red>pikachu/CD/aula2</font>\n",
    "\n",
    "\n",
    "\n",
    "## <font color='red'>Terça-feira (dia 16/08), no horário de atendimento da sua turma, deverá apresentar aos NINJAS!!</font>\n",
    "___"
   ]
  },
  {
   "cell_type": "code",
   "execution_count": 1,
   "metadata": {
    "collapsed": true
   },
   "outputs": [],
   "source": [
    "%matplotlib inline\n",
    "import pandas as pd\n",
    "import matplotlib.pyplot as plt\n",
    "import math\n",
    "import numpy as np\n",
    "import os"
   ]
  },
  {
   "cell_type": "code",
   "execution_count": 2,
   "metadata": {
    "collapsed": false
   },
   "outputs": [
    {
     "name": "stdout",
     "output_type": "stream",
     "text": [
      "Esperamos trabalhar no diretório\n",
      "/Users/Carlosjunior/Documents/CHL/Insper fisico/2 semestre/Ciencia dos Dados\n"
     ]
    }
   ],
   "source": [
    "print('Esperamos trabalhar no diretório')\n",
    "print(os.getcwd())"
   ]
  },
  {
   "cell_type": "code",
   "execution_count": 3,
   "metadata": {
    "collapsed": false
   },
   "outputs": [],
   "source": [
    "dados = pd.read_csv('pes2013A.txt', sep=' ')"
   ]
  },
  {
   "cell_type": "code",
   "execution_count": 4,
   "metadata": {
    "collapsed": false
   },
   "outputs": [
    {
     "data": {
      "text/plain": [
       "(362555, 72)"
      ]
     },
     "execution_count": 4,
     "metadata": {},
     "output_type": "execute_result"
    }
   ],
   "source": [
    "dados.shape"
   ]
  },
  {
   "cell_type": "code",
   "execution_count": 5,
   "metadata": {
    "collapsed": false
   },
   "outputs": [
    {
     "data": {
      "text/html": [
       "<div>\n",
       "<table border=\"1\" class=\"dataframe\">\n",
       "  <thead>\n",
       "    <tr style=\"text-align: right;\">\n",
       "      <th></th>\n",
       "      <th>V0101</th>\n",
       "      <th>UF</th>\n",
       "      <th>V0102</th>\n",
       "      <th>V0103</th>\n",
       "      <th>V0301</th>\n",
       "      <th>V0302</th>\n",
       "      <th>V8005</th>\n",
       "      <th>V0404</th>\n",
       "      <th>V4011</th>\n",
       "      <th>V0412</th>\n",
       "      <th>...</th>\n",
       "      <th>V4706</th>\n",
       "      <th>V4707</th>\n",
       "      <th>V4809</th>\n",
       "      <th>V4810</th>\n",
       "      <th>V4711</th>\n",
       "      <th>V4718</th>\n",
       "      <th>V4720</th>\n",
       "      <th>V4742</th>\n",
       "      <th>V4750</th>\n",
       "      <th>V4729</th>\n",
       "    </tr>\n",
       "  </thead>\n",
       "  <tbody>\n",
       "    <tr>\n",
       "      <th>1</th>\n",
       "      <td>2013</td>\n",
       "      <td>11</td>\n",
       "      <td>15</td>\n",
       "      <td>3</td>\n",
       "      <td>1</td>\n",
       "      <td>4</td>\n",
       "      <td>42</td>\n",
       "      <td>2</td>\n",
       "      <td>5</td>\n",
       "      <td>2</td>\n",
       "      <td>...</td>\n",
       "      <td>NaN</td>\n",
       "      <td>NaN</td>\n",
       "      <td>NaN</td>\n",
       "      <td>NaN</td>\n",
       "      <td>NaN</td>\n",
       "      <td>NaN</td>\n",
       "      <td>350</td>\n",
       "      <td>350</td>\n",
       "      <td>350</td>\n",
       "      <td>244</td>\n",
       "    </tr>\n",
       "    <tr>\n",
       "      <th>2</th>\n",
       "      <td>2013</td>\n",
       "      <td>11</td>\n",
       "      <td>15</td>\n",
       "      <td>4</td>\n",
       "      <td>1</td>\n",
       "      <td>4</td>\n",
       "      <td>64</td>\n",
       "      <td>8</td>\n",
       "      <td>7</td>\n",
       "      <td>2</td>\n",
       "      <td>...</td>\n",
       "      <td>NaN</td>\n",
       "      <td>NaN</td>\n",
       "      <td>NaN</td>\n",
       "      <td>NaN</td>\n",
       "      <td>NaN</td>\n",
       "      <td>NaN</td>\n",
       "      <td>678</td>\n",
       "      <td>339</td>\n",
       "      <td>339</td>\n",
       "      <td>243</td>\n",
       "    </tr>\n",
       "    <tr>\n",
       "      <th>3</th>\n",
       "      <td>2013</td>\n",
       "      <td>11</td>\n",
       "      <td>15</td>\n",
       "      <td>4</td>\n",
       "      <td>2</td>\n",
       "      <td>4</td>\n",
       "      <td>13</td>\n",
       "      <td>4</td>\n",
       "      <td>0</td>\n",
       "      <td>2</td>\n",
       "      <td>...</td>\n",
       "      <td>NaN</td>\n",
       "      <td>NaN</td>\n",
       "      <td>NaN</td>\n",
       "      <td>NaN</td>\n",
       "      <td>NaN</td>\n",
       "      <td>NaN</td>\n",
       "      <td>0</td>\n",
       "      <td>339</td>\n",
       "      <td>339</td>\n",
       "      <td>243</td>\n",
       "    </tr>\n",
       "    <tr>\n",
       "      <th>4</th>\n",
       "      <td>2013</td>\n",
       "      <td>11</td>\n",
       "      <td>15</td>\n",
       "      <td>5</td>\n",
       "      <td>1</td>\n",
       "      <td>2</td>\n",
       "      <td>23</td>\n",
       "      <td>8</td>\n",
       "      <td>0</td>\n",
       "      <td>2</td>\n",
       "      <td>...</td>\n",
       "      <td>1</td>\n",
       "      <td>3</td>\n",
       "      <td>5</td>\n",
       "      <td>5</td>\n",
       "      <td>1</td>\n",
       "      <td>800</td>\n",
       "      <td>800</td>\n",
       "      <td>266</td>\n",
       "      <td>266</td>\n",
       "      <td>243</td>\n",
       "    </tr>\n",
       "    <tr>\n",
       "      <th>5</th>\n",
       "      <td>2013</td>\n",
       "      <td>11</td>\n",
       "      <td>15</td>\n",
       "      <td>5</td>\n",
       "      <td>2</td>\n",
       "      <td>4</td>\n",
       "      <td>19</td>\n",
       "      <td>8</td>\n",
       "      <td>0</td>\n",
       "      <td>2</td>\n",
       "      <td>...</td>\n",
       "      <td>NaN</td>\n",
       "      <td>NaN</td>\n",
       "      <td>NaN</td>\n",
       "      <td>NaN</td>\n",
       "      <td>NaN</td>\n",
       "      <td>NaN</td>\n",
       "      <td>0</td>\n",
       "      <td>266</td>\n",
       "      <td>266</td>\n",
       "      <td>243</td>\n",
       "    </tr>\n",
       "  </tbody>\n",
       "</table>\n",
       "<p>5 rows × 72 columns</p>\n",
       "</div>"
      ],
      "text/plain": [
       "   V0101  UF  V0102  V0103  V0301  V0302  V8005  V0404  V4011  V0412  ...    \\\n",
       "1   2013  11     15      3      1      4     42      2      5      2  ...     \n",
       "2   2013  11     15      4      1      4     64      8      7      2  ...     \n",
       "3   2013  11     15      4      2      4     13      4      0      2  ...     \n",
       "4   2013  11     15      5      1      2     23      8      0      2  ...     \n",
       "5   2013  11     15      5      2      4     19      8      0      2  ...     \n",
       "\n",
       "   V4706  V4707  V4809  V4810  V4711  V4718  V4720  V4742  V4750  V4729  \n",
       "1    NaN    NaN    NaN    NaN    NaN    NaN    350    350    350    244  \n",
       "2    NaN    NaN    NaN    NaN    NaN    NaN    678    339    339    243  \n",
       "3    NaN    NaN    NaN    NaN    NaN    NaN      0    339    339    243  \n",
       "4      1      3      5      5      1    800    800    266    266    243  \n",
       "5    NaN    NaN    NaN    NaN    NaN    NaN      0    266    266    243  \n",
       "\n",
       "[5 rows x 72 columns]"
      ]
     },
     "execution_count": 5,
     "metadata": {},
     "output_type": "execute_result"
    }
   ],
   "source": [
    "dados.head()"
   ]
  },
  {
   "cell_type": "code",
   "execution_count": 6,
   "metadata": {
    "collapsed": false
   },
   "outputs": [
    {
     "name": "stdout",
     "output_type": "stream",
     "text": [
      "362555\n"
     ]
    }
   ],
   "source": [
    "n=dados.shape[0]\n",
    "print(n)"
   ]
  },
  {
   "cell_type": "code",
   "execution_count": 7,
   "metadata": {
    "collapsed": false
   },
   "outputs": [
    {
     "name": "stdout",
     "output_type": "stream",
     "text": [
      "Sexo\n",
      "4    51.4\n",
      "2    48.6\n",
      "Name: V0302, dtype: float64 \n",
      "\n",
      " \n",
      "Cor ou raça\n",
      "8    48.0\n",
      "2    42.8\n",
      "4     8.3\n",
      "0     0.5\n",
      "6     0.4\n",
      "9     0.0\n",
      "Name: V0404, dtype: float64 \n",
      "\n",
      " \n",
      "Rede de ensino\n",
      "2    21.5\n",
      "4     6.9\n",
      "Name: V6002, dtype: float64 \n",
      "\n",
      " \n",
      "Nível de ensino e grupos de séries do ensino fundamental que frequentavam (todos os estudantes)\n",
      "7     7.0\n",
      "8     6.3\n",
      "10    4.8\n",
      "11    3.8\n",
      "1     1.7\n",
      "6     1.6\n",
      "5     0.6\n",
      "4     0.3\n",
      "2     0.3\n",
      "9     0.1\n",
      "3     0.1\n",
      "Name: V4802, dtype: float64 \n",
      "\n",
      " \n",
      "Trabalhou na semana de referencia\n",
      "1    45.5\n",
      "3    40.1\n",
      "Name: V9001, dtype: float64 \n",
      "\n",
      " \n",
      "Recebeu auxilio educação ou creche no mês de referência\n",
      "4    31.8\n",
      "2     0.8\n",
      "Name: V9046, dtype: float64 \n",
      "\n",
      "Sudeste         29.0\n",
      "Nordeste        28.8\n",
      "Sul             17.2\n",
      "Norte           16.3\n",
      "Centro Oeste     8.6\n",
      "dtype: float64 \n",
      "\n"
     ]
    }
   ],
   "source": [
    "print('''Sexo''')\n",
    "ut1 = (dados.V0302.value_counts()/n*100).round(decimals=1)\n",
    "print(ut1,'\\n')\n",
    "\n",
    "print(''' \n",
    "Cor ou raça''')\n",
    "ut2 = (dados.V0404.value_counts()/n*100).round(decimals=1)\n",
    "print(ut2,'\\n')\n",
    "\n",
    "print(''' \n",
    "Rede de ensino''')\n",
    "ut3 = (dados.V6002.value_counts()/n*100).round(decimals=1)\n",
    "print(ut3,'\\n')\n",
    "\n",
    "print(''' \n",
    "Nível de ensino e grupos de séries do ensino fundamental que frequentavam (todos os estudantes)''')\n",
    "ut4 = (dados.V4802.value_counts()/n*100).round(decimals=1)\n",
    "print(ut4,'\\n')\n",
    "\n",
    "print(''' \n",
    "Trabalhou na semana de referencia''')\n",
    "ut5 = (dados.V9001.value_counts()/n*100).round(decimals=1)\n",
    "print(ut5,'\\n')\n",
    "\n",
    "print(''' \n",
    "Recebeu auxilio educação ou creche no mês de referência''')\n",
    "ut6 = (dados.V9046.value_counts()/n*100).round(decimals=1)\n",
    "print(ut6,'\\n')\n",
    "\n",
    "faixa = range(10,70,10)\n",
    "dados.Regioes = pd.cut(dados.UF,faixa)\n",
    "dados.Regioes.cat.categories = ('Norte','Nordeste','Sudeste','Sul','Centro Oeste')\n",
    "ut8 = (dados.Regioes.value_counts()/n*100).round(decimals=1)\n",
    "print(ut8,'\\n')"
   ]
  },
  {
   "cell_type": "code",
   "execution_count": 8,
   "metadata": {
    "collapsed": false
   },
   "outputs": [],
   "source": [
    "ct6 = pd.crosstab(dados[dados.UF < 20].UF,dados.V4802)"
   ]
  },
  {
   "cell_type": "code",
   "execution_count": 9,
   "metadata": {
    "collapsed": false
   },
   "outputs": [],
   "source": [
    "dados.V0302=dados.V0302.astype('category')\n",
    "dados.V0404=dados.V0404.astype('category')\n",
    "dados.V6002=dados.V6002.astype('category')\n",
    "dados.V4802=dados.V4802.astype('category')\n",
    "dados.V9001=dados.V9001.astype('category')\n",
    "dados.V9046=dados.V9046.astype('category')\n",
    "dados.Regioes=dados.Regioes.astype('category')"
   ]
  },
  {
   "cell_type": "code",
   "execution_count": 10,
   "metadata": {
    "collapsed": false
   },
   "outputs": [],
   "source": [
    "#Sexo\n",
    "dados.V0302.cat.categories = ('Feminino','Masculino')\n",
    "\n",
    "\n",
    "#Raça\n",
    "dados.V0404.cat.categories = ('Branca','Preta','Amarela','Parda','Indigena','Sem declaração')\n",
    "\n",
    "\n",
    "#Rede de ensino\n",
    "dados.V6002.cat.categories = ('Pública','Privada')\n",
    "\n",
    "\n",
    "#Nivel de ensino\n",
    "dados.V4802.cat.categories = ('Maternal, jardim de infância etc.','Classe de alfabetização','Alfabetização de adultos',\n",
    "'1ª a 4ª séries do ensino fundamental regular em 8 anos ou de educação de jovens e adultos','5ª a 8ª séries do ensino fundamental regular em 8 anos ou de educação de jovens e adultos',\n",
    "'1ª série do ensino fundamental regular em 9 anos','2ª a 5ª séries do ensino fundamental regular em 9 anos','6ª a 9ª séries do ensino fundamental regular em 9 anos ',\n",
    "'Educação de jovens e adultos não seriado do ensino fundamental','Ensino médio, inclusive pré-vestibular','Superior, inclusive mestrado ou doutorado')\n",
    "\n",
    "\n",
    "#Se trabalho\n",
    "dados.V9001.cat.categories = ('Sim','Não')\n",
    "\n",
    "\n",
    "#Se recebe auxilio edu ou creceh\n",
    "dados.V9046.cat.categories = ('Sim','Não')\n",
    "\n",
    "\n",
    "\n",
    "\n",
    "#Regioes\n",
    "dados.Regioes.cat.categories = ('Norte','Nordeste','Sudeste','Sul','Centro Oeste')"
   ]
  },
  {
   "cell_type": "markdown",
   "metadata": {},
   "source": [
    "# Gráficos de Gênero"
   ]
  },
  {
   "cell_type": "code",
   "execution_count": 11,
   "metadata": {
    "collapsed": false
   },
   "outputs": [
    {
     "data": {
      "text/plain": [
       "<matplotlib.text.Text at 0x1022f3dd8>"
      ]
     },
     "execution_count": 11,
     "metadata": {},
     "output_type": "execute_result"
    },
    {
     "data": {
      "image/png": "[encoded data removed]",
      "text/plain": [
       "<matplotlib.figure.Figure at 0x111412908>"
      ]
     },
     "metadata": {},
     "output_type": "display_data"
    }
   ],
   "source": [
    "plot = ut1.plot(kind='bar',title='GÊNERO',figsize=(6, 6),color=('b','r'))\n",
    "plt.ylabel('Freq.Relativa (em%)')"
   ]
  },
  {
   "cell_type": "code",
   "execution_count": 12,
   "metadata": {
    "collapsed": false
   },
   "outputs": [
    {
     "data": {
      "image/png": "[encoded data removed]",
      "text/plain": [
       "<matplotlib.figure.Figure at 0x102304898>"
      ]
     },
     "metadata": {},
     "output_type": "display_data"
    }
   ],
   "source": [
    "plot = ut1.plot(kind='pie',title='GÊNERO',autopct='%.1f',figsize=(6, 6),colors=['b', 'r'])"
   ]
  },
  {
   "cell_type": "markdown",
   "metadata": {},
   "source": [
    "# Gráficos de Raça/Cor"
   ]
  },
  {
   "cell_type": "code",
   "execution_count": 13,
   "metadata": {
    "collapsed": false
   },
   "outputs": [
    {
     "data": {
      "text/plain": [
       "<matplotlib.text.Text at 0x111370cc0>"
      ]
     },
     "execution_count": 13,
     "metadata": {},
     "output_type": "execute_result"
    },
    {
     "data": {
      "image/png": "[encoded data removed]",
      "text/plain": [
       "<matplotlib.figure.Figure at 0x107da6a20>"
      ]
     },
     "metadata": {},
     "output_type": "display_data"
    }
   ],
   "source": [
    "plot = ut2.plot(kind='bar',title='Cor/Raça',figsize=(6, 6),)\n",
    "plt.ylabel('Freq.Relativa (em%)')"
   ]
  },
  {
   "cell_type": "code",
   "execution_count": 14,
   "metadata": {
    "collapsed": false
   },
   "outputs": [
    {
     "data": {
      "image/png": "[encoded data removed]",
      "text/plain": [
       "<matplotlib.figure.Figure at 0x1127fe748>"
      ]
     },
     "metadata": {},
     "output_type": "display_data"
    }
   ],
   "source": [
    "plot = ut2.plot(kind='pie',title='Cor/Raça',autopct='%.1f',figsize=(6, 6))"
   ]
  },
  {
   "cell_type": "markdown",
   "metadata": {},
   "source": [
    "# Gráficos de Rede de Ensino"
   ]
  },
  {
   "cell_type": "code",
   "execution_count": 15,
   "metadata": {
    "collapsed": false
   },
   "outputs": [
    {
     "data": {
      "text/plain": [
       "<matplotlib.text.Text at 0x112968b00>"
      ]
     },
     "execution_count": 15,
     "metadata": {},
     "output_type": "execute_result"
    },
    {
     "data": {
      "image/png": "[encoded data removed]",
      "text/plain": [
       "<matplotlib.figure.Figure at 0x112824b00>"
      ]
     },
     "metadata": {},
     "output_type": "display_data"
    }
   ],
   "source": [
    "plot = ut3.plot(kind='bar',title='Rede de Ensino',figsize=(6, 6),color=('g','y'))\n",
    "plt.ylabel('Freq.Relativa (em%)')"
   ]
  },
  {
   "cell_type": "code",
   "execution_count": 16,
   "metadata": {
    "collapsed": false
   },
   "outputs": [
    {
     "data": {
      "image/png": "[encoded data removed]",
      "text/plain": [
       "<matplotlib.figure.Figure at 0x1129bce48>"
      ]
     },
     "metadata": {},
     "output_type": "display_data"
    }
   ],
   "source": [
    "plot = ut3.plot(kind='pie',title='Rede de Ensino',autopct='%.1f',figsize=(6, 6),colors=['g','y'])"
   ]
  },
  {
   "cell_type": "markdown",
   "metadata": {},
   "source": [
    "# Gráficos de Nível de Ensino"
   ]
  },
  {
   "cell_type": "code",
   "execution_count": 17,
   "metadata": {
    "collapsed": false
   },
   "outputs": [
    {
     "data": {
      "text/plain": [
       "<matplotlib.text.Text at 0x112d0ee10>"
      ]
     },
     "execution_count": 17,
     "metadata": {},
     "output_type": "execute_result"
    },
    {
     "data": {
      "image/png": "[encoded data removed]",
      "text/plain": [
       "<matplotlib.figure.Figure at 0x1129c56d8>"
      ]
     },
     "metadata": {},
     "output_type": "display_data"
    }
   ],
   "source": [
    "plot = ut4.plot(kind='bar',title='Nível de Ensino',figsize=(6, 6))\n",
    "plt.ylabel('Freq.Relativa (em%)')"
   ]
  },
  {
   "cell_type": "code",
   "execution_count": 18,
   "metadata": {
    "collapsed": false
   },
   "outputs": [
    {
     "data": {
      "image/png": "[encoded data removed]",
      "text/plain": [
       "<matplotlib.figure.Figure at 0x112e65048>"
      ]
     },
     "metadata": {},
     "output_type": "display_data"
    }
   ],
   "source": [
    "plot = ut4.plot(kind='pie',title='Nível de Ensino',autopct='%.1f',figsize=(6, 6))"
   ]
  },
  {
   "cell_type": "markdown",
   "metadata": {},
   "source": [
    "# Gráficos sobre Trabalho na semana de referencia"
   ]
  },
  {
   "cell_type": "code",
   "execution_count": 19,
   "metadata": {
    "collapsed": false
   },
   "outputs": [
    {
     "data": {
      "text/plain": [
       "<matplotlib.text.Text at 0x112ffa748>"
      ]
     },
     "execution_count": 19,
     "metadata": {},
     "output_type": "execute_result"
    },
    {
     "data": {
      "image/png": "[encoded data removed]",
      "text/plain": [
       "<matplotlib.figure.Figure at 0x112d0ea20>"
      ]
     },
     "metadata": {},
     "output_type": "display_data"
    }
   ],
   "source": [
    "plot = ut5.plot(kind='bar',title='Trabalhou na semana de referência',figsize=(6, 6),color=('g','r'))\n",
    "plt.ylabel('Freq.Relativa (em%)')"
   ]
  },
  {
   "cell_type": "code",
   "execution_count": 20,
   "metadata": {
    "collapsed": false
   },
   "outputs": [
    {
     "data": {
      "image/png": "[encoded data removed]",
      "text/plain": [
       "<matplotlib.figure.Figure at 0x1131353c8>"
      ]
     },
     "metadata": {},
     "output_type": "display_data"
    }
   ],
   "source": [
    "plot = ut6.plot(kind='pie',title='Trabalhou na semana de referencia',autopct='%.1f',figsize=(6, 6),colors=['g','r'])"
   ]
  },
  {
   "cell_type": "markdown",
   "metadata": {},
   "source": [
    "# Gráficos de Auxilio educação"
   ]
  },
  {
   "cell_type": "code",
   "execution_count": 21,
   "metadata": {
    "collapsed": false
   },
   "outputs": [
    {
     "data": {
      "text/plain": [
       "<matplotlib.text.Text at 0x112e61550>"
      ]
     },
     "execution_count": 21,
     "metadata": {},
     "output_type": "execute_result"
    },
    {
     "data": {
      "image/png": "[encoded data removed]",
      "text/plain": [
       "<matplotlib.figure.Figure at 0x11313dac8>"
      ]
     },
     "metadata": {},
     "output_type": "display_data"
    }
   ],
   "source": [
    "plot = ut6.plot(kind='bar',title='Recebeu auxilio educação',figsize=(6, 6),color=('r','g'))\n",
    "plt.ylabel('Freq.Relativa (em%)')"
   ]
  },
  {
   "cell_type": "code",
   "execution_count": 22,
   "metadata": {
    "collapsed": false
   },
   "outputs": [
    {
     "data": {
      "image/png": "[encoded data removed]",
      "text/plain": [
       "<matplotlib.figure.Figure at 0x11281eba8>"
      ]
     },
     "metadata": {},
     "output_type": "display_data"
    }
   ],
   "source": [
    "plot = ut6.plot(kind='pie',title='Recebeu auxilio educação',autopct='%.1f',figsize=(6, 6),colors=['r', 'g'])"
   ]
  },
  {
   "cell_type": "markdown",
   "metadata": {},
   "source": [
    "# Gráficos de Regiões"
   ]
  },
  {
   "cell_type": "code",
   "execution_count": 23,
   "metadata": {
    "collapsed": false
   },
   "outputs": [
    {
     "data": {
      "text/plain": [
       "<matplotlib.text.Text at 0x112832358>"
      ]
     },
     "execution_count": 23,
     "metadata": {},
     "output_type": "execute_result"
    },
    {
     "data": {
      "image/png": "[encoded data removed]",
      "text/plain": [
       "<matplotlib.figure.Figure at 0x107d18eb8>"
      ]
     },
     "metadata": {},
     "output_type": "display_data"
    }
   ],
   "source": [
    "plot = ut8.plot(kind='bar',title='Regiões',figsize=(6, 6))\n",
    "plt.ylabel('Freq.Relativa (em%)')"
   ]
  },
  {
   "cell_type": "code",
   "execution_count": 24,
   "metadata": {
    "collapsed": false
   },
   "outputs": [
    {
     "data": {
      "image/png": "[encoded data removed]",
      "text/plain": [
       "<matplotlib.figure.Figure at 0x107dc70b8>"
      ]
     },
     "metadata": {},
     "output_type": "display_data"
    }
   ],
   "source": [
    "plot = ut8.plot(kind='pie',title='Regiões',autopct='%.1f',figsize=(6, 6))"
   ]
  },
  {
   "cell_type": "code",
   "execution_count": 25,
   "metadata": {
    "collapsed": false
   },
   "outputs": [],
   "source": [
    "#Nivel do estudante por sexo\n",
    "ct = pd.crosstab(dados.V0302,dados.V4802,colnames=['Nivel de ensino'], rownames=['Sexo'])\n",
    "\n",
    "#Nivel do estudante por cor/raça\n",
    "ct1 = pd.crosstab(dados.V0404,dados.V4802,colnames=['Nivel de ensino'], rownames=['Raça'])\n",
    "\n",
    "#Nivel do estudante por rede de ensino\n",
    "ct2 = pd.crosstab(dados.V6002,dados.V4802,colnames=['Nivel de ensino'], rownames=['Rede de Ensino'])\n",
    "\n",
    "#Nivel do estudante por ter trabalhado na semana\n",
    "ct3 = pd.crosstab(dados.V9001,dados.V4802,colnames=['Nivel de ensino'], rownames=['Trabalhou na semana'])\n",
    "\n",
    "#Nivel do estudante por recebeu auxilio creche/educação no mes de referencia\n",
    "ct4 = pd.crosstab(dados.V9046,dados.V4802,colnames=['Nivel de ensino'], rownames=['Recebeu auxilio creche/educação no mes de referencia'])\n",
    "\n",
    "#Nivel do estudante por região\n",
    "ct6 = pd.crosstab(dados.Regioes,dados.V4802)"
   ]
  },
  {
   "cell_type": "markdown",
   "metadata": {
    "collapsed": false
   },
   "source": [
    "# Tabela Cruzada - Sexo x Nível de Ensino"
   ]
  },
  {
   "cell_type": "code",
   "execution_count": 26,
   "metadata": {
    "collapsed": false
   },
   "outputs": [
    {
     "data": {
      "text/html": [
       "<div>\n",
       "<table border=\"1\" class=\"dataframe\">\n",
       "  <thead>\n",
       "    <tr style=\"text-align: right;\">\n",
       "      <th>Nivel de ensino</th>\n",
       "      <th>Ensino médio, inclusive pré-vestibular</th>\n",
       "      <th>Superior, inclusive mestrado ou doutorado</th>\n",
       "    </tr>\n",
       "    <tr>\n",
       "      <th>Sexo</th>\n",
       "      <th></th>\n",
       "      <th></th>\n",
       "    </tr>\n",
       "  </thead>\n",
       "  <tbody>\n",
       "    <tr>\n",
       "      <th>Feminino</th>\n",
       "      <td>8.329797</td>\n",
       "      <td>6.024071</td>\n",
       "    </tr>\n",
       "    <tr>\n",
       "      <th>Masculino</th>\n",
       "      <td>9.680324</td>\n",
       "      <td>8.095913</td>\n",
       "    </tr>\n",
       "  </tbody>\n",
       "</table>\n",
       "</div>"
      ],
      "text/plain": [
       "Nivel de ensino  Ensino médio, inclusive pré-vestibular  \\\n",
       "Sexo                                                      \n",
       "Feminino                                       8.329797   \n",
       "Masculino                                      9.680324   \n",
       "\n",
       "Nivel de ensino  Superior, inclusive mestrado ou doutorado  \n",
       "Sexo                                                        \n",
       "Feminino                                          6.024071  \n",
       "Masculino                                         8.095913  "
      ]
     },
     "execution_count": 26,
     "metadata": {},
     "output_type": "execute_result"
    }
   ],
   "source": [
    "soma_tabela = ct.sum().sum()\n",
    "ctn=(ct*100/soma_tabela)\n",
    "novatab = ctn.iloc[:,9:11]\n",
    "novatab"
   ]
  },
  {
   "cell_type": "code",
   "execution_count": 27,
   "metadata": {
    "collapsed": false
   },
   "outputs": [
    {
     "data": {
      "text/plain": [
       "<matplotlib.text.Text at 0x112fbb7b8>"
      ]
     },
     "execution_count": 27,
     "metadata": {},
     "output_type": "execute_result"
    },
    {
     "data": {
      "image/png": "[encoded data removed]",
      "text/plain": [
       "<matplotlib.figure.Figure at 0x112ccb8d0>"
      ]
     },
     "metadata": {},
     "output_type": "display_data"
    }
   ],
   "source": [
    "novatab.plot(kind = 'bar',figsize = (10,5),grid = True).legend(bbox_to_anchor=(1.35,1))\n",
    "plt.title('Nível de Ensino x sexo')"
   ]
  },
  {
   "cell_type": "markdown",
   "metadata": {
    "collapsed": false
   },
   "source": [
    "# Tabela Cruzada - Raça x Nível de Ensino"
   ]
  },
  {
   "cell_type": "code",
   "execution_count": 28,
   "metadata": {
    "collapsed": false
   },
   "outputs": [
    {
     "data": {
      "text/html": [
       "<div>\n",
       "<table border=\"1\" class=\"dataframe\">\n",
       "  <thead>\n",
       "    <tr style=\"text-align: right;\">\n",
       "      <th>Nivel de ensino</th>\n",
       "      <th>Ensino médio, inclusive pré-vestibular</th>\n",
       "      <th>Superior, inclusive mestrado ou doutorado</th>\n",
       "    </tr>\n",
       "    <tr>\n",
       "      <th>Raça</th>\n",
       "      <th></th>\n",
       "      <th></th>\n",
       "    </tr>\n",
       "  </thead>\n",
       "  <tbody>\n",
       "    <tr>\n",
       "      <th>Branca</th>\n",
       "      <td>0.071407</td>\n",
       "      <td>0.042430</td>\n",
       "    </tr>\n",
       "    <tr>\n",
       "      <th>Preta</th>\n",
       "      <td>7.214190</td>\n",
       "      <td>7.725424</td>\n",
       "    </tr>\n",
       "    <tr>\n",
       "      <th>Amarela</th>\n",
       "      <td>1.351561</td>\n",
       "      <td>0.944851</td>\n",
       "    </tr>\n",
       "    <tr>\n",
       "      <th>Parda</th>\n",
       "      <td>0.073477</td>\n",
       "      <td>0.089000</td>\n",
       "    </tr>\n",
       "    <tr>\n",
       "      <th>Indigena</th>\n",
       "      <td>9.299486</td>\n",
       "      <td>5.318279</td>\n",
       "    </tr>\n",
       "    <tr>\n",
       "      <th>Sem declaração</th>\n",
       "      <td>0.000000</td>\n",
       "      <td>0.000000</td>\n",
       "    </tr>\n",
       "  </tbody>\n",
       "</table>\n",
       "</div>"
      ],
      "text/plain": [
       "Nivel de ensino  Ensino médio, inclusive pré-vestibular  \\\n",
       "Raça                                                      \n",
       "Branca                                         0.071407   \n",
       "Preta                                          7.214190   \n",
       "Amarela                                        1.351561   \n",
       "Parda                                          0.073477   \n",
       "Indigena                                       9.299486   \n",
       "Sem declaração                                 0.000000   \n",
       "\n",
       "Nivel de ensino  Superior, inclusive mestrado ou doutorado  \n",
       "Raça                                                        \n",
       "Branca                                            0.042430  \n",
       "Preta                                             7.725424  \n",
       "Amarela                                           0.944851  \n",
       "Parda                                             0.089000  \n",
       "Indigena                                          5.318279  \n",
       "Sem declaração                                    0.000000  "
      ]
     },
     "execution_count": 28,
     "metadata": {},
     "output_type": "execute_result"
    }
   ],
   "source": [
    "soma_tabela1 = ct1.sum().sum()\n",
    "ctn1=ct1*100/soma_tabela1\n",
    "novatab1 = ctn1.iloc[:,9:11]\n",
    "novatab1"
   ]
  },
  {
   "cell_type": "code",
   "execution_count": 29,
   "metadata": {
    "collapsed": false
   },
   "outputs": [
    {
     "data": {
      "text/plain": [
       "<matplotlib.text.Text at 0x11363ada0>"
      ]
     },
     "execution_count": 29,
     "metadata": {},
     "output_type": "execute_result"
    },
    {
     "data": {
      "image/png": "[encoded data removed]",
      "text/plain": [
       "<matplotlib.figure.Figure at 0x112cdbc50>"
      ]
     },
     "metadata": {},
     "output_type": "display_data"
    }
   ],
   "source": [
    "novatab1.plot(kind = 'bar',figsize = (10,5),grid = True).legend(bbox_to_anchor=(1.35,1))\n",
    "plt.title('Nível de Ensino x cor/raça')"
   ]
  },
  {
   "cell_type": "markdown",
   "metadata": {
    "collapsed": false
   },
   "source": [
    "# Tabela Cruzada - Rede de Ensino x Nível de Ensino"
   ]
  },
  {
   "cell_type": "code",
   "execution_count": 30,
   "metadata": {
    "collapsed": false
   },
   "outputs": [
    {
     "data": {
      "text/html": [
       "<div>\n",
       "<table border=\"1\" class=\"dataframe\">\n",
       "  <thead>\n",
       "    <tr style=\"text-align: right;\">\n",
       "      <th>Nivel de ensino</th>\n",
       "      <th>Ensino médio, inclusive pré-vestibular</th>\n",
       "      <th>Superior, inclusive mestrado ou doutorado</th>\n",
       "    </tr>\n",
       "    <tr>\n",
       "      <th>Rede de Ensino</th>\n",
       "      <th></th>\n",
       "      <th></th>\n",
       "    </tr>\n",
       "  </thead>\n",
       "  <tbody>\n",
       "    <tr>\n",
       "      <th>Pública</th>\n",
       "      <td>15.495348</td>\n",
       "      <td>3.774229</td>\n",
       "    </tr>\n",
       "    <tr>\n",
       "      <th>Privada</th>\n",
       "      <td>2.514773</td>\n",
       "      <td>10.345755</td>\n",
       "    </tr>\n",
       "  </tbody>\n",
       "</table>\n",
       "</div>"
      ],
      "text/plain": [
       "Nivel de ensino  Ensino médio, inclusive pré-vestibular  \\\n",
       "Rede de Ensino                                            \n",
       "Pública                                       15.495348   \n",
       "Privada                                        2.514773   \n",
       "\n",
       "Nivel de ensino  Superior, inclusive mestrado ou doutorado  \n",
       "Rede de Ensino                                              \n",
       "Pública                                           3.774229  \n",
       "Privada                                          10.345755  "
      ]
     },
     "execution_count": 30,
     "metadata": {},
     "output_type": "execute_result"
    }
   ],
   "source": [
    "soma_tabela2 = ct.sum().sum()\n",
    "ctn2=ct2*100/soma_tabela2\n",
    "novatab2 = ctn2.iloc[:,9:11]\n",
    "novatab2"
   ]
  },
  {
   "cell_type": "code",
   "execution_count": 31,
   "metadata": {
    "collapsed": false
   },
   "outputs": [
    {
     "data": {
      "text/plain": [
       "<matplotlib.text.Text at 0x1147a7f98>"
      ]
     },
     "execution_count": 31,
     "metadata": {},
     "output_type": "execute_result"
    },
    {
     "data": {
      "image/png": "[encoded data removed]",
      "text/plain": [
       "<matplotlib.figure.Figure at 0x114620940>"
      ]
     },
     "metadata": {},
     "output_type": "display_data"
    }
   ],
   "source": [
    "novatab2.plot(kind = 'bar',figsize = (10,5),grid = True)#.legend(bbox_to_anchor=(0.95,-0.25))\n",
    "plt.title('Nível de ensino x Rede de Ensino')"
   ]
  },
  {
   "cell_type": "markdown",
   "metadata": {
    "collapsed": false
   },
   "source": [
    "# Tabela Cruzada - Trabalho na Semana x Nível de Ensino"
   ]
  },
  {
   "cell_type": "code",
   "execution_count": 32,
   "metadata": {
    "collapsed": false
   },
   "outputs": [
    {
     "data": {
      "text/html": [
       "<div>\n",
       "<table border=\"1\" class=\"dataframe\">\n",
       "  <thead>\n",
       "    <tr style=\"text-align: right;\">\n",
       "      <th>Nivel de ensino</th>\n",
       "      <th>Ensino médio, inclusive pré-vestibular</th>\n",
       "      <th>Superior, inclusive mestrado ou doutorado</th>\n",
       "    </tr>\n",
       "    <tr>\n",
       "      <th>Trabalhou na semana</th>\n",
       "      <th></th>\n",
       "      <th></th>\n",
       "    </tr>\n",
       "  </thead>\n",
       "  <tbody>\n",
       "    <tr>\n",
       "      <th>Sim</th>\n",
       "      <td>7.088766</td>\n",
       "      <td>12.854838</td>\n",
       "    </tr>\n",
       "    <tr>\n",
       "      <th>Não</th>\n",
       "      <td>18.206660</td>\n",
       "      <td>6.976846</td>\n",
       "    </tr>\n",
       "  </tbody>\n",
       "</table>\n",
       "</div>"
      ],
      "text/plain": [
       "Nivel de ensino      Ensino médio, inclusive pré-vestibular  \\\n",
       "Trabalhou na semana                                           \n",
       "Sim                                                7.088766   \n",
       "Não                                               18.206660   \n",
       "\n",
       "Nivel de ensino      Superior, inclusive mestrado ou doutorado  \n",
       "Trabalhou na semana                                             \n",
       "Sim                                                  12.854838  \n",
       "Não                                                   6.976846  "
      ]
     },
     "execution_count": 32,
     "metadata": {},
     "output_type": "execute_result"
    }
   ],
   "source": [
    "soma_tabela3 = ct3.sum().sum()\n",
    "ctn3=ct3*100/soma_tabela3\n",
    "novatab3 = ctn3.iloc[:,9:11]\n",
    "novatab3\n"
   ]
  },
  {
   "cell_type": "code",
   "execution_count": 33,
   "metadata": {
    "collapsed": false
   },
   "outputs": [
    {
     "data": {
      "text/plain": [
       "<matplotlib.text.Text at 0x11570e1d0>"
      ]
     },
     "execution_count": 33,
     "metadata": {},
     "output_type": "execute_result"
    },
    {
     "data": {
      "image/png": "[encoded data removed]",
      "text/plain": [
       "<matplotlib.figure.Figure at 0x1147b28d0>"
      ]
     },
     "metadata": {},
     "output_type": "display_data"
    }
   ],
   "source": [
    "novatab3.plot(kind = 'bar',figsize = (10,5),grid = True)#.legend(bbox_to_anchor=(0.95,-0.2))\n",
    "plt.title('Nível de ensino x ter trabalhado')"
   ]
  },
  {
   "cell_type": "markdown",
   "metadata": {
    "collapsed": false
   },
   "source": [
    "# Tabela Cruzada - Recebeu auxilio creche/educação no mês de referência x Nível de Ensino"
   ]
  },
  {
   "cell_type": "code",
   "execution_count": 34,
   "metadata": {
    "collapsed": false
   },
   "outputs": [
    {
     "data": {
      "text/html": [
       "<div>\n",
       "<table border=\"1\" class=\"dataframe\">\n",
       "  <thead>\n",
       "    <tr style=\"text-align: right;\">\n",
       "      <th>Nivel de ensino</th>\n",
       "      <th>Ensino médio, inclusive pré-vestibular</th>\n",
       "      <th>Superior, inclusive mestrado ou doutorado</th>\n",
       "    </tr>\n",
       "    <tr>\n",
       "      <th>Recebeu auxilio creche/educação no mes de referencia</th>\n",
       "      <th></th>\n",
       "      <th></th>\n",
       "    </tr>\n",
       "  </thead>\n",
       "  <tbody>\n",
       "    <tr>\n",
       "      <th>Sim</th>\n",
       "      <td>0.651796</td>\n",
       "      <td>3.852839</td>\n",
       "    </tr>\n",
       "    <tr>\n",
       "      <th>Não</th>\n",
       "      <td>27.694090</td>\n",
       "      <td>54.417729</td>\n",
       "    </tr>\n",
       "  </tbody>\n",
       "</table>\n",
       "</div>"
      ],
      "text/plain": [
       "Nivel de ensino                                     Ensino médio, inclusive pré-vestibular  \\\n",
       "Recebeu auxilio creche/educação no mes de refer...                                           \n",
       "Sim                                                                               0.651796   \n",
       "Não                                                                              27.694090   \n",
       "\n",
       "Nivel de ensino                                     Superior, inclusive mestrado ou doutorado  \n",
       "Recebeu auxilio creche/educação no mes de refer...                                             \n",
       "Sim                                                                                  3.852839  \n",
       "Não                                                                                 54.417729  "
      ]
     },
     "execution_count": 34,
     "metadata": {},
     "output_type": "execute_result"
    }
   ],
   "source": [
    "soma_tabela4 = ct4.sum().sum()\n",
    "ctn4=ct4*100/soma_tabela4\n",
    "novatab4 = ctn4.iloc[:,9:11]\n",
    "novatab4"
   ]
  },
  {
   "cell_type": "code",
   "execution_count": 35,
   "metadata": {
    "collapsed": false
   },
   "outputs": [
    {
     "data": {
      "text/plain": [
       "<matplotlib.text.Text at 0x1158c0940>"
      ]
     },
     "execution_count": 35,
     "metadata": {},
     "output_type": "execute_result"
    },
    {
     "data": {
      "image/png": "[encoded data removed]",
      "text/plain": [
       "<matplotlib.figure.Figure at 0x115750d30>"
      ]
     },
     "metadata": {},
     "output_type": "display_data"
    }
   ],
   "source": [
    "novatab4.plot(kind = 'bar', figsize = (10,5),grid = True)#.legend(bbox_to_anchor=(0.95,-0.2))\n",
    "plt.title('Nível do ensino x auxilio creche/educação')"
   ]
  },
  {
   "cell_type": "markdown",
   "metadata": {
    "collapsed": false
   },
   "source": [
    "# Tabela Cruzada - Regiões x Nível de Ensino"
   ]
  },
  {
   "cell_type": "code",
   "execution_count": 36,
   "metadata": {
    "collapsed": false
   },
   "outputs": [
    {
     "data": {
      "text/html": [
       "<div>\n",
       "<table border=\"1\" class=\"dataframe\">\n",
       "  <thead>\n",
       "    <tr style=\"text-align: right;\">\n",
       "      <th>V4802</th>\n",
       "      <th>Ensino médio, inclusive pré-vestibular</th>\n",
       "      <th>Superior, inclusive mestrado ou doutorado</th>\n",
       "    </tr>\n",
       "    <tr>\n",
       "      <th>UF</th>\n",
       "      <th></th>\n",
       "      <th></th>\n",
       "    </tr>\n",
       "  </thead>\n",
       "  <tbody>\n",
       "    <tr>\n",
       "      <th>Norte</th>\n",
       "      <td>3.431682</td>\n",
       "      <td>2.162912</td>\n",
       "    </tr>\n",
       "    <tr>\n",
       "      <th>Nordeste</th>\n",
       "      <td>5.233419</td>\n",
       "      <td>3.557938</td>\n",
       "    </tr>\n",
       "    <tr>\n",
       "      <th>Sudeste</th>\n",
       "      <td>4.947790</td>\n",
       "      <td>3.939811</td>\n",
       "    </tr>\n",
       "    <tr>\n",
       "      <th>Sul</th>\n",
       "      <td>2.772460</td>\n",
       "      <td>2.785913</td>\n",
       "    </tr>\n",
       "    <tr>\n",
       "      <th>Centro Oeste</th>\n",
       "      <td>1.624771</td>\n",
       "      <td>1.673411</td>\n",
       "    </tr>\n",
       "  </tbody>\n",
       "</table>\n",
       "</div>"
      ],
      "text/plain": [
       "V4802         Ensino médio, inclusive pré-vestibular  \\\n",
       "UF                                                     \n",
       "Norte                                       3.431682   \n",
       "Nordeste                                    5.233419   \n",
       "Sudeste                                     4.947790   \n",
       "Sul                                         2.772460   \n",
       "Centro Oeste                                1.624771   \n",
       "\n",
       "V4802         Superior, inclusive mestrado ou doutorado  \n",
       "UF                                                       \n",
       "Norte                                          2.162912  \n",
       "Nordeste                                       3.557938  \n",
       "Sudeste                                        3.939811  \n",
       "Sul                                            2.785913  \n",
       "Centro Oeste                                   1.673411  "
      ]
     },
     "execution_count": 36,
     "metadata": {},
     "output_type": "execute_result"
    }
   ],
   "source": [
    "soma_tabela6 = ct6.sum().sum()\n",
    "ctn6=ct6*100/soma_tabela6\n",
    "novatab6 = ctn6.iloc[:,9:11]\n",
    "novatab6"
   ]
  },
  {
   "cell_type": "code",
   "execution_count": 39,
   "metadata": {
    "collapsed": false
   },
   "outputs": [
    {
     "data": {
      "text/plain": [
       "<matplotlib.text.Text at 0x115daa940>"
      ]
     },
     "execution_count": 39,
     "metadata": {},
     "output_type": "execute_result"
    },
    {
     "data": {
      "image/png": "[encoded data removed]",
      "text/plain": [
       "<matplotlib.figure.Figure at 0x115d82630>"
      ]
     },
     "metadata": {},
     "output_type": "display_data"
    }
   ],
   "source": [
    "novatab6.plot(kind = 'bar', figsize = (15,10))#.legend(bbox_to_anchor = (0.95,-0.51))\n",
    "plt.title('Nível de ensino x Região')"
   ]
  },
  {
   "cell_type": "markdown",
   "metadata": {},
   "source": [
    "## Conclusão\n",
    "\n",
    "O perfil do aluno que cursa o ensino médio, incluindo o pré vestibular, e que cursa o ensino superior é: predominantemente masculino, com maior predominancia de origem inígena e preta, sendo que a maior parte dos estudantes que cursam o ensino médio vem de escola pública enquanto maior parte que cursa ensino superior estudou em escolas particulares. Além disso, aqueles com ensino médio trabalham menos que aqueles com ensino superior, e a maioria desse estudantes não recebem auxílio educação. As regiões que concentram esse tipo de estudante são as regiões Nordeste e Sudeste."
   ]
  },
  {
   "cell_type": "markdown",
   "metadata": {},
   "source": [
    "# Análise Quantitaivas"
   ]
  },
  {
   "cell_type": "code",
   "execution_count": 40,
   "metadata": {
    "collapsed": false
   },
   "outputs": [
    {
     "data": {
      "text/html": [
       "<div>\n",
       "<table border=\"1\" class=\"dataframe\">\n",
       "  <thead>\n",
       "    <tr style=\"text-align: right;\">\n",
       "      <th></th>\n",
       "      <th>V0101</th>\n",
       "      <th>UF</th>\n",
       "      <th>V0102</th>\n",
       "      <th>V0103</th>\n",
       "      <th>V0301</th>\n",
       "      <th>V8005</th>\n",
       "      <th>V4011</th>\n",
       "      <th>V0412</th>\n",
       "      <th>V0501</th>\n",
       "      <th>V0502</th>\n",
       "      <th>...</th>\n",
       "      <th>V4706</th>\n",
       "      <th>V4707</th>\n",
       "      <th>V4809</th>\n",
       "      <th>V4810</th>\n",
       "      <th>V4711</th>\n",
       "      <th>V4718</th>\n",
       "      <th>V4720</th>\n",
       "      <th>V4742</th>\n",
       "      <th>V4750</th>\n",
       "      <th>V4729</th>\n",
       "    </tr>\n",
       "  </thead>\n",
       "  <tbody>\n",
       "    <tr>\n",
       "      <th>count</th>\n",
       "      <td>344001</td>\n",
       "      <td>344001.000000</td>\n",
       "      <td>344001.000000</td>\n",
       "      <td>344001.000000</td>\n",
       "      <td>344001.000000</td>\n",
       "      <td>344001.000000</td>\n",
       "      <td>206235.000000</td>\n",
       "      <td>344001.000000</td>\n",
       "      <td>344001.000000</td>\n",
       "      <td>136145.000000</td>\n",
       "      <td>...</td>\n",
       "      <td>162612.000000</td>\n",
       "      <td>162612.000000</td>\n",
       "      <td>162612.000000</td>\n",
       "      <td>162612.000000</td>\n",
       "      <td>162612.000000</td>\n",
       "      <td>1.626120e+05</td>\n",
       "      <td>2.939870e+05</td>\n",
       "      <td>343224.000000</td>\n",
       "      <td>3.432820e+05</td>\n",
       "      <td>344001.000000</td>\n",
       "    </tr>\n",
       "    <tr>\n",
       "      <th>mean</th>\n",
       "      <td>2013</td>\n",
       "      <td>31.062901</td>\n",
       "      <td>2671.117726</td>\n",
       "      <td>8.883910</td>\n",
       "      <td>2.444955</td>\n",
       "      <td>32.929960</td>\n",
       "      <td>0.925342</td>\n",
       "      <td>3.203130</td>\n",
       "      <td>1.791538</td>\n",
       "      <td>2.783253</td>\n",
       "      <td>...</td>\n",
       "      <td>4.732972</td>\n",
       "      <td>3.086279</td>\n",
       "      <td>5.986452</td>\n",
       "      <td>5.457199</td>\n",
       "      <td>1.400253</td>\n",
       "      <td>1.844897e+08</td>\n",
       "      <td>1.326600e+08</td>\n",
       "      <td>923.885943</td>\n",
       "      <td>1.165315e+07</td>\n",
       "      <td>554.339636</td>\n",
       "    </tr>\n",
       "    <tr>\n",
       "      <th>std</th>\n",
       "      <td>0</td>\n",
       "      <td>11.159334</td>\n",
       "      <td>2412.886295</td>\n",
       "      <td>5.442085</td>\n",
       "      <td>1.501420</td>\n",
       "      <td>20.873365</td>\n",
       "      <td>2.122011</td>\n",
       "      <td>1.099565</td>\n",
       "      <td>0.978032</td>\n",
       "      <td>0.976231</td>\n",
       "      <td>...</td>\n",
       "      <td>3.781218</td>\n",
       "      <td>1.064758</td>\n",
       "      <td>3.412852</td>\n",
       "      <td>2.181338</td>\n",
       "      <td>0.489951</td>\n",
       "      <td>1.358143e+10</td>\n",
       "      <td>1.151702e+10</td>\n",
       "      <td>1473.710793</td>\n",
       "      <td>3.413521e+09</td>\n",
       "      <td>261.855031</td>\n",
       "    </tr>\n",
       "    <tr>\n",
       "      <th>min</th>\n",
       "      <td>2013</td>\n",
       "      <td>11.000000</td>\n",
       "      <td>10.000000</td>\n",
       "      <td>1.000000</td>\n",
       "      <td>1.000000</td>\n",
       "      <td>0.000000</td>\n",
       "      <td>0.000000</td>\n",
       "      <td>2.000000</td>\n",
       "      <td>1.000000</td>\n",
       "      <td>2.000000</td>\n",
       "      <td>...</td>\n",
       "      <td>1.000000</td>\n",
       "      <td>1.000000</td>\n",
       "      <td>1.000000</td>\n",
       "      <td>1.000000</td>\n",
       "      <td>1.000000</td>\n",
       "      <td>0.000000e+00</td>\n",
       "      <td>0.000000e+00</td>\n",
       "      <td>0.000000</td>\n",
       "      <td>0.000000e+00</td>\n",
       "      <td>174.000000</td>\n",
       "    </tr>\n",
       "    <tr>\n",
       "      <th>25%</th>\n",
       "      <td>2013</td>\n",
       "      <td>23.000000</td>\n",
       "      <td>819.000000</td>\n",
       "      <td>5.000000</td>\n",
       "      <td>1.000000</td>\n",
       "      <td>16.000000</td>\n",
       "      <td>0.000000</td>\n",
       "      <td>2.000000</td>\n",
       "      <td>1.000000</td>\n",
       "      <td>2.000000</td>\n",
       "      <td>...</td>\n",
       "      <td>1.000000</td>\n",
       "      <td>2.000000</td>\n",
       "      <td>3.000000</td>\n",
       "      <td>4.000000</td>\n",
       "      <td>1.000000</td>\n",
       "      <td>6.780000e+02</td>\n",
       "      <td>0.000000e+00</td>\n",
       "      <td>300.000000</td>\n",
       "      <td>3.000000e+02</td>\n",
       "      <td>320.000000</td>\n",
       "    </tr>\n",
       "    <tr>\n",
       "      <th>50%</th>\n",
       "      <td>2013</td>\n",
       "      <td>31.000000</td>\n",
       "      <td>1930.000000</td>\n",
       "      <td>9.000000</td>\n",
       "      <td>2.000000</td>\n",
       "      <td>31.000000</td>\n",
       "      <td>0.000000</td>\n",
       "      <td>4.000000</td>\n",
       "      <td>1.000000</td>\n",
       "      <td>2.000000</td>\n",
       "      <td>...</td>\n",
       "      <td>4.000000</td>\n",
       "      <td>3.000000</td>\n",
       "      <td>5.000000</td>\n",
       "      <td>5.000000</td>\n",
       "      <td>1.000000</td>\n",
       "      <td>9.000000e+02</td>\n",
       "      <td>6.780000e+02</td>\n",
       "      <td>564.000000</td>\n",
       "      <td>5.640000e+02</td>\n",
       "      <td>570.000000</td>\n",
       "    </tr>\n",
       "    <tr>\n",
       "      <th>75%</th>\n",
       "      <td>2013</td>\n",
       "      <td>41.000000</td>\n",
       "      <td>4091.000000</td>\n",
       "      <td>13.000000</td>\n",
       "      <td>3.000000</td>\n",
       "      <td>48.000000</td>\n",
       "      <td>0.000000</td>\n",
       "      <td>4.000000</td>\n",
       "      <td>3.000000</td>\n",
       "      <td>4.000000</td>\n",
       "      <td>...</td>\n",
       "      <td>9.000000</td>\n",
       "      <td>4.000000</td>\n",
       "      <td>9.000000</td>\n",
       "      <td>8.000000</td>\n",
       "      <td>2.000000</td>\n",
       "      <td>1.500000e+03</td>\n",
       "      <td>1.200000e+03</td>\n",
       "      <td>1000.000000</td>\n",
       "      <td>1.000000e+03</td>\n",
       "      <td>726.000000</td>\n",
       "    </tr>\n",
       "    <tr>\n",
       "      <th>max</th>\n",
       "      <td>2013</td>\n",
       "      <td>53.000000</td>\n",
       "      <td>73146.000000</td>\n",
       "      <td>71.000000</td>\n",
       "      <td>24.000000</td>\n",
       "      <td>109.000000</td>\n",
       "      <td>7.000000</td>\n",
       "      <td>9.000000</td>\n",
       "      <td>3.000000</td>\n",
       "      <td>4.000000</td>\n",
       "      <td>...</td>\n",
       "      <td>13.000000</td>\n",
       "      <td>5.000000</td>\n",
       "      <td>13.000000</td>\n",
       "      <td>10.000000</td>\n",
       "      <td>2.000000</td>\n",
       "      <td>1.000000e+12</td>\n",
       "      <td>1.000000e+12</td>\n",
       "      <td>82000.000000</td>\n",
       "      <td>1.000000e+12</td>\n",
       "      <td>1150.000000</td>\n",
       "    </tr>\n",
       "  </tbody>\n",
       "</table>\n",
       "<p>8 rows × 66 columns</p>\n",
       "</div>"
      ],
      "text/plain": [
       "        V0101             UF          V0102          V0103          V0301  \\\n",
       "count  344001  344001.000000  344001.000000  344001.000000  344001.000000   \n",
       "mean     2013      31.062901    2671.117726       8.883910       2.444955   \n",
       "std         0      11.159334    2412.886295       5.442085       1.501420   \n",
       "min      2013      11.000000      10.000000       1.000000       1.000000   \n",
       "25%      2013      23.000000     819.000000       5.000000       1.000000   \n",
       "50%      2013      31.000000    1930.000000       9.000000       2.000000   \n",
       "75%      2013      41.000000    4091.000000      13.000000       3.000000   \n",
       "max      2013      53.000000   73146.000000      71.000000      24.000000   \n",
       "\n",
       "               V8005          V4011          V0412          V0501  \\\n",
       "count  344001.000000  206235.000000  344001.000000  344001.000000   \n",
       "mean       32.929960       0.925342       3.203130       1.791538   \n",
       "std        20.873365       2.122011       1.099565       0.978032   \n",
       "min         0.000000       0.000000       2.000000       1.000000   \n",
       "25%        16.000000       0.000000       2.000000       1.000000   \n",
       "50%        31.000000       0.000000       4.000000       1.000000   \n",
       "75%        48.000000       0.000000       4.000000       3.000000   \n",
       "max       109.000000       7.000000       9.000000       3.000000   \n",
       "\n",
       "               V0502      ...                V4706          V4707  \\\n",
       "count  136145.000000      ...        162612.000000  162612.000000   \n",
       "mean        2.783253      ...             4.732972       3.086279   \n",
       "std         0.976231      ...             3.781218       1.064758   \n",
       "min         2.000000      ...             1.000000       1.000000   \n",
       "25%         2.000000      ...             1.000000       2.000000   \n",
       "50%         2.000000      ...             4.000000       3.000000   \n",
       "75%         4.000000      ...             9.000000       4.000000   \n",
       "max         4.000000      ...            13.000000       5.000000   \n",
       "\n",
       "               V4809          V4810          V4711         V4718  \\\n",
       "count  162612.000000  162612.000000  162612.000000  1.626120e+05   \n",
       "mean        5.986452       5.457199       1.400253  1.844897e+08   \n",
       "std         3.412852       2.181338       0.489951  1.358143e+10   \n",
       "min         1.000000       1.000000       1.000000  0.000000e+00   \n",
       "25%         3.000000       4.000000       1.000000  6.780000e+02   \n",
       "50%         5.000000       5.000000       1.000000  9.000000e+02   \n",
       "75%         9.000000       8.000000       2.000000  1.500000e+03   \n",
       "max        13.000000      10.000000       2.000000  1.000000e+12   \n",
       "\n",
       "              V4720          V4742         V4750          V4729  \n",
       "count  2.939870e+05  343224.000000  3.432820e+05  344001.000000  \n",
       "mean   1.326600e+08     923.885943  1.165315e+07     554.339636  \n",
       "std    1.151702e+10    1473.710793  3.413521e+09     261.855031  \n",
       "min    0.000000e+00       0.000000  0.000000e+00     174.000000  \n",
       "25%    0.000000e+00     300.000000  3.000000e+02     320.000000  \n",
       "50%    6.780000e+02     564.000000  5.640000e+02     570.000000  \n",
       "75%    1.200000e+03    1000.000000  1.000000e+03     726.000000  \n",
       "max    1.000000e+12   82000.000000  1.000000e+12    1150.000000  \n",
       "\n",
       "[8 rows x 66 columns]"
      ]
     },
     "execution_count": 40,
     "metadata": {},
     "output_type": "execute_result"
    }
   ],
   "source": [
    "dados[dados.V4742!=999999999999].describe()"
   ]
  },
  {
   "cell_type": "code",
   "execution_count": 41,
   "metadata": {
    "collapsed": true
   },
   "outputs": [],
   "source": [
    "n=math.sqrt(343224)\n",
    "amplitude = (82000-300)/n"
   ]
  },
  {
   "cell_type": "code",
   "execution_count": 68,
   "metadata": {
    "collapsed": true
   },
   "outputs": [],
   "source": [
    "faixa = [0,300,600,900,2000,8000,82000]"
   ]
  },
  {
   "cell_type": "code",
   "execution_count": 145,
   "metadata": {
    "collapsed": false
   },
   "outputs": [
    {
     "name": "stdout",
     "output_type": "stream",
     "text": [
      "(300, 600]       26.179476\n",
      "(0, 300]         22.600157\n",
      "(900, 2000]      18.820869\n",
      "(600, 900]       17.751514\n",
      "(2000, 8000]      7.397498\n",
      "(8000, 82000]     0.653418\n",
      "dtype: float64\n"
     ]
    }
   ],
   "source": [
    "ut_renda=pd.cut(dados.V4742,faixa)\n",
    "print(ut_renda.value_counts(True)*100)"
   ]
  },
  {
   "cell_type": "code",
   "execution_count": 165,
   "metadata": {
    "collapsed": false
   },
   "outputs": [
    {
     "data": {
      "text/plain": [
       "<matplotlib.text.Text at 0x11423a8d0>"
      ]
     },
     "execution_count": 165,
     "metadata": {},
     "output_type": "execute_result"
    },
    {
     "data": {
      "image/png": "[encoded data removed]",
      "text/plain": [
       "<matplotlib.figure.Figure at 0x125c70898>"
      ]
     },
     "metadata": {},
     "output_type": "display_data"
    }
   ],
   "source": [
    "plot=dados.V4742.plot.hist(bins=faixa,figsize = (7,5))\n",
    "plt.xlabel(\"Rendimento domiciliar mensal per capita\")"
   ]
  },
  {
   "cell_type": "markdown",
   "metadata": {},
   "source": [
    "# Rendimento mensal do trabalho principal para pessoas de 10 anos ou mais de idade"
   ]
  },
  {
   "cell_type": "code",
   "execution_count": 96,
   "metadata": {
    "collapsed": false
   },
   "outputs": [
    {
     "data": {
      "text/plain": [
       "count    166889.000000\n",
       "mean       1473.823410\n",
       "std        2506.054945\n",
       "min           0.000000\n",
       "25%         678.000000\n",
       "50%         900.000000\n",
       "75%        1500.000000\n",
       "max      180000.000000\n",
       "Name: V4718, dtype: float64"
      ]
     },
     "execution_count": 96,
     "metadata": {},
     "output_type": "execute_result"
    }
   ],
   "source": [
    "dados.V4718[dados.V4718!=999999999999].describe()"
   ]
  },
  {
   "cell_type": "code",
   "execution_count": 118,
   "metadata": {
    "collapsed": false
   },
   "outputs": [],
   "source": [
    "faixas = [0,600,1200,2400,4800,9000,14000,18000,180000]"
   ]
  },
  {
   "cell_type": "code",
   "execution_count": 144,
   "metadata": {
    "collapsed": false
   },
   "outputs": [
    {
     "name": "stdout",
     "output_type": "stream",
     "text": [
      "(600, 1200]        20.324916\n",
      "(1200, 2400]        8.789563\n",
      "(0, 600]            7.362193\n",
      "(2400, 4800]        4.013460\n",
      "(4800, 9000]        1.589276\n",
      "(9000, 14000]       0.411800\n",
      "(18000, 180000]     0.138462\n",
      "(14000, 18000]      0.127981\n",
      "dtype: float64\n"
     ]
    }
   ],
   "source": [
    "ut_renmens=pd.cut(dados.V4718,faixas)\n",
    "print(ut_renmens.value_counts(True)*100)"
   ]
  },
  {
   "cell_type": "code",
   "execution_count": 151,
   "metadata": {
    "collapsed": false
   },
   "outputs": [
    {
     "name": "stdout",
     "output_type": "stream",
     "text": [
      "20.3249162196\n",
      "0\n",
      "8.78956296286\n",
      "20.3249162196\n"
     ]
    }
   ],
   "source": [
    "lista=list(ut_renmens.value_counts(True)*100)\n",
    "S=0\n",
    "i=0\n",
    "while S<21.3788252817:\n",
    "    print(lista[i])\n",
    "    print(S)\n",
    "    S+=lista[i]\n",
    "    i+=1"
   ]
  },
  {
   "cell_type": "code",
   "execution_count": 136,
   "metadata": {
    "collapsed": false
   },
   "outputs": [
    {
     "data": {
      "image/png": "[encoded data removed]",
      "text/plain": [
       "<matplotlib.figure.Figure at 0x113e53048>"
      ]
     },
     "metadata": {},
     "output_type": "display_data"
    }
   ],
   "source": [
    "plot=dados.V4718.plot.hist(bins=faixas,figsize = (15,10))"
   ]
  },
  {
   "cell_type": "code",
   "execution_count": 141,
   "metadata": {
    "collapsed": false
   },
   "outputs": [
    {
     "data": {
      "text/plain": [
       "<matplotlib.text.Text at 0x11accc3c8>"
      ]
     },
     "execution_count": 141,
     "metadata": {},
     "output_type": "execute_result"
    },
    {
     "data": {
      "image/png": "[encoded data removed]",
      "text/plain": [
       "<matplotlib.figure.Figure at 0x111b7ba90>"
      ]
     },
     "metadata": {},
     "output_type": "display_data"
    }
   ],
   "source": [
    "ct1 = pd.crosstab(ut_renmens,dados.Regioes)\n",
    "plot = ct1.plot(kind='box',figsize = (10,5))\n",
    "plt.ylabel(\"Rendimento mensal do trabalho principal para pessoas de 10 anos ou mais de idade [$]\")\n",
    "plt.title(\"\")"
   ]
  },
  {
   "cell_type": "markdown",
   "metadata": {},
   "source": [
    "**Conclusão**\n",
    "\n",
    "Com a analise é possivel concluir que a maioria da população tem renda per capita e o rendimento mensal do trabalho principal para pessoas de 10 anos ou mais de idade entre R300.00 e R600.00 reais."
   ]
  },
  {
   "cell_type": "code",
   "execution_count": null,
   "metadata": {
    "collapsed": true
   },
   "outputs": [],
   "source": []
  }
 ],
 "metadata": {
  "anaconda-cloud": {},
  "celltoolbar": "Raw Cell Format",
  "kernelspec": {
   "display_name": "Python 3",
   "language": "python",
   "name": "python3"
  },
  "language_info": {
   "codemirror_mode": {
    "name": "ipython",
    "version": 3
   },
   "file_extension": ".py",
   "mimetype": "text/x-python",
   "name": "python",
   "nbconvert_exporter": "python",
   "pygments_lexer": "ipython3",
   "version": "3.5.2"
  }
 },
 "nbformat": 4,
 "nbformat_minor": 0
}
