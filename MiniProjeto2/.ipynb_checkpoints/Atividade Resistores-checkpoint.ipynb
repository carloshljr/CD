{
 "cells": [
  {
   "cell_type": "markdown",
   "metadata": {},
   "source": [
    "# MINIPROJETO 2"
   ]
  },
  {
   "cell_type": "markdown",
   "metadata": {},
   "source": [
    "## <font color='red'>LUCA RIBEIRO NOTO, YAGO LABATE, CARLOS LUDMAN, FELIPE VIACAVA</font>\n",
    "___ "
   ]
  },
  {
   "cell_type": "code",
   "execution_count": 1,
   "metadata": {
    "collapsed": false
   },
   "outputs": [
    {
     "name": "stdout",
     "output_type": "stream",
     "text": [
      "Esperamos trabalhar no diretório\n",
      "/Users/Lucanoto/Desktop/MiniProjeto2\n"
     ]
    }
   ],
   "source": [
    "%matplotlib inline\n",
    "import pandas as pd\n",
    "import matplotlib.pyplot as plt\n",
    "import numpy as np\n",
    "import os\n",
    "from scipy import stats\n",
    "import pylab \n",
    "import math\n",
    "\n",
    "\n",
    "print('Esperamos trabalhar no diretório')\n",
    "print(os.getcwd())"
   ]
  },
  {
   "cell_type": "code",
   "execution_count": 13,
   "metadata": {
    "collapsed": false
   },
   "outputs": [],
   "source": [
    "população = sorted(stats.norm.rvs(size=1000000, loc=1000, scale=25))\n",
    "população = pd.Series(população)"
   ]
  },
  {
   "cell_type": "code",
   "execution_count": 17,
   "metadata": {
    "collapsed": false
   },
   "outputs": [
    {
     "name": "stdout",
     "output_type": "stream",
     "text": [
      "Esperança da População: 999.967105241418\n",
      "Variância da População: 626.2086958296319\n",
      "Desvio Padrão da População: 25.024162240315498\n"
     ]
    }
   ],
   "source": [
    "muPop = população.mean()\n",
    "varPop = população.var()\n",
    "\n",
    "\n",
    "print(\"Esperança da População:\", muPop)\n",
    "print(\"Variância da População:\", varPop)\n",
    "print(\"Desvio Padrão da População:\", math.sqrt(varPop))"
   ]
  },
  {
   "cell_type": "code",
   "execution_count": 16,
   "metadata": {
    "collapsed": false
   },
   "outputs": [
    {
     "name": "stdout",
     "output_type": "stream",
     "text": [
      "Esperança da Amostra: 1.0306000000000002\n",
      "Variância da Amostra: 0.00026493333333333367\n",
      "Desvio Padrão da Amostra: 0.016276772816911023\n"
     ]
    }
   ],
   "source": [
    "amostra = [1.001,1.045,1.032,1.042,1.027,1.010,1.028, 1.053, 1.024, 1.044]\n",
    "amostra = pd.Series(amostra)\n",
    "\n",
    "print(\"Esperança da Amostra:\",amostra.mean())\n",
    "print(\"Variância da Amostra:\",amostra.var())\n",
    "print(\"Desvio Padrão da Amostra:\",math.sqrt(amostra.var()))"
   ]
  },
  {
   "cell_type": "code",
   "execution_count": 19,
   "metadata": {
    "collapsed": true
   },
   "outputs": [],
   "source": [
    "def calcula_medias_amostrais(lista,n,repeticoes):\n",
    "    medias_amostrais = []\n",
    "    for i in range(repeticoes):\n",
    "        soma = 0\n",
    "        valores = np.random.choice(lista,n)\n",
    "        for i in valores:\n",
    "            soma+= i\n",
    "        medias_amostrais.append(soma/n)\n",
    "    return medias_amostrais"
   ]
  },
  {
   "cell_type": "code",
   "execution_count": 29,
   "metadata": {
    "collapsed": false
   },
   "outputs": [],
   "source": [
    "médiasn10 = calcula_medias_amostrais(população,10,10000)"
   ]
  },
  {
   "cell_type": "code",
   "execution_count": 30,
   "metadata": {
    "collapsed": false
   },
   "outputs": [
    {
     "name": "stdout",
     "output_type": "stream",
     "text": [
      "Esperança: 1000.0632191346167\n",
      "Variância: 62.720254054547695\n"
     ]
    }
   ],
   "source": [
    "médiasn10 = pd.Series(médiasn10)\n",
    "\n",
    "muAmostral = médiasn10.mean()\n",
    "varAmostral = médiasn10.var()\n",
    "dpAmostral = math.sqrt(varAmostral)\n",
    "\n",
    "print(\"Esperança:\", muAmostral)\n",
    "print(\"Variância:\", varAmostral)"
   ]
  },
  {
   "cell_type": "code",
   "execution_count": 25,
   "metadata": {
    "collapsed": false
   },
   "outputs": [
    {
     "data": {
      "text/plain": [
       "[<matplotlib.lines.Line2D at 0x11683ce48>]"
      ]
     },
     "execution_count": 25,
     "metadata": {},
     "output_type": "execute_result"
    },
    {
     "data": {
      "image/png": "[encoded data removed]",
      "text/plain": [
       "<matplotlib.figure.Figure at 0x116829160>"
      ]
     },
     "metadata": {},
     "output_type": "display_data"
    }
   ],
   "source": [
    "fig = plt.figure(figsize=(15,8))\n",
    "plt.hist(médiasn10,normed=True)\n",
    "plt.plot(população, stats.norm.pdf(população, loc=muAmostral, scale=dpAmostral), lw=3, alpha=1,)"
   ]
  },
  {
   "cell_type": "code",
   "execution_count": null,
   "metadata": {
    "collapsed": true
   },
   "outputs": [],
   "source": []
  }
 ],
 "metadata": {
  "kernelspec": {
   "display_name": "Python 3",
   "language": "python",
   "name": "python3"
  },
  "language_info": {
   "codemirror_mode": {
    "name": "ipython",
    "version": 3
   },
   "file_extension": ".py",
   "mimetype": "text/x-python",
   "name": "python",
   "nbconvert_exporter": "python",
   "pygments_lexer": "ipython3",
   "version": "3.5.1"
  }
 },
 "nbformat": 4,
 "nbformat_minor": 0
}
