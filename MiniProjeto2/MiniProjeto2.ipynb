{
 "cells": [
  {
   "cell_type": "markdown",
   "metadata": {},
   "source": [
    "# MINIPROJETO 2"
   ]
  },
  {
   "cell_type": "markdown",
   "metadata": {},
   "source": [
    "## <font color='red'>LUCA RIBEIRO NOTO, CARLOS LUDMAN, FELIPE VIACAVA</font>\n",
    "___ "
   ]
  },
  {
   "cell_type": "code",
   "execution_count": 6,
   "metadata": {
    "collapsed": false
   },
   "outputs": [
    {
     "name": "stdout",
     "output_type": "stream",
     "text": [
      "Esperamos trabalhar no diretório\n",
      "/Users/Lucanoto/Desktop/MiniProjeto2\n"
     ]
    }
   ],
   "source": [
    "%matplotlib inline\n",
    "import pandas as pd\n",
    "import matplotlib.pyplot as plt\n",
    "import numpy as np\n",
    "import os\n",
    "from scipy import stats\n",
    "import pylab \n",
    "import math\n",
    "\n",
    "\n",
    "print('Esperamos trabalhar no diretório')\n",
    "print(os.getcwd())"
   ]
  },
  {
   "cell_type": "markdown",
   "metadata": {},
   "source": [
    "# Item 1\n"
   ]
  },
  {
   "cell_type": "markdown",
   "metadata": {},
   "source": [
    "#### a.\n"
   ]
  },
  {
   "cell_type": "markdown",
   "metadata": {},
   "source": [
    "A distribuição escolhida será a distribuição de <font color='red'>Gumbel com Assimetria Positiva</font> com os parâmetros:\n",
    "\n",
    "loc: 3 \n",
    "\n",
    "scale: 5"
   ]
  },
  {
   "cell_type": "markdown",
   "metadata": {},
   "source": [
    "#### b."
   ]
  },
  {
   "cell_type": "code",
   "execution_count": 7,
   "metadata": {
    "collapsed": false
   },
   "outputs": [],
   "source": [
    "x = sorted(stats.gumbel_r.rvs(size=1000000, loc=3, scale=5))\n",
    "x = pd.Series(x)"
   ]
  },
  {
   "cell_type": "markdown",
   "metadata": {},
   "source": [
    "#### c."
   ]
  },
  {
   "cell_type": "code",
   "execution_count": 40,
   "metadata": {
    "collapsed": false
   },
   "outputs": [
    {
     "name": "stdout",
     "output_type": "stream",
     "text": [
      "Esperança: 5.888089417158305\n",
      "Variância: 41.16386056699044\n"
     ]
    }
   ],
   "source": [
    "muPop = x.mean()\n",
    "varPop = x.var()\n",
    "dpPop = math.sqrt(varPop)\n",
    "\n",
    "print(\"Esperança:\", muPop)\n",
    "print(\"Variância:\", varPop)"
   ]
  },
  {
   "cell_type": "markdown",
   "metadata": {},
   "source": [
    "# Item 2\n"
   ]
  },
  {
   "cell_type": "markdown",
   "metadata": {},
   "source": [
    "#### a.\n"
   ]
  },
  {
   "cell_type": "code",
   "execution_count": 46,
   "metadata": {
    "collapsed": true
   },
   "outputs": [],
   "source": [
    "n=2"
   ]
  },
  {
   "cell_type": "markdown",
   "metadata": {},
   "source": [
    "#### b.\n"
   ]
  },
  {
   "cell_type": "code",
   "execution_count": 98,
   "metadata": {
    "collapsed": false
   },
   "outputs": [
    {
     "name": "stdout",
     "output_type": "stream",
     "text": [
      "[ 9.10042454  2.96124708]\n"
     ]
    }
   ],
   "source": [
    "valores = np.random.choice(x,n)\n",
    "print(valores)"
   ]
  },
  {
   "cell_type": "markdown",
   "metadata": {},
   "source": [
    "#### c.\n"
   ]
  },
  {
   "cell_type": "code",
   "execution_count": 87,
   "metadata": {
    "collapsed": false
   },
   "outputs": [
    {
     "name": "stdout",
     "output_type": "stream",
     "text": [
      "14.5205896283\n"
     ]
    }
   ],
   "source": [
    "média_amostral = (valores[0] + valores[1] )/ 2 \n",
    "print(média_amostral)"
   ]
  },
  {
   "cell_type": "markdown",
   "metadata": {},
   "source": [
    "#### d.\n"
   ]
  },
  {
   "cell_type": "code",
   "execution_count": 111,
   "metadata": {
    "collapsed": true
   },
   "outputs": [],
   "source": [
    "def calcula_medias_amostrais(lista,n,repeticoes):\n",
    "    medias_amostrais = []\n",
    "    for i in range(repeticoes):\n",
    "        soma = 0\n",
    "        valores = np.random.choice(lista,n)\n",
    "        for i in valores:\n",
    "            soma+= i\n",
    "        medias_amostrais.append(soma/n)\n",
    "    return medias_amostrais"
   ]
  },
  {
   "cell_type": "code",
   "execution_count": 112,
   "metadata": {
    "collapsed": false
   },
   "outputs": [],
   "source": [
    "médiasn2 = calcula_medias_amostrais(x,2,10000)"
   ]
  },
  {
   "cell_type": "markdown",
   "metadata": {},
   "source": [
    "#### e.\n"
   ]
  },
  {
   "cell_type": "code",
   "execution_count": 113,
   "metadata": {
    "collapsed": false
   },
   "outputs": [
    {
     "name": "stdout",
     "output_type": "stream",
     "text": [
      "Esperança: 5.916860311745781\n",
      "Variância: 20.84566633876118\n"
     ]
    }
   ],
   "source": [
    "médiasn2 = pd.Series(médiasn2)\n",
    "\n",
    "muAmostral = médiasn2.mean()\n",
    "varAmostral = médiasn2.var()\n",
    "dpAmostral = math.sqrt(varAmostral)\n",
    "\n",
    "print(\"Esperança:\", muAmostral)\n",
    "print(\"Variância:\", varAmostral)"
   ]
  },
  {
   "cell_type": "code",
   "execution_count": 118,
   "metadata": {
    "collapsed": false
   },
   "outputs": [
    {
     "data": {
      "text/plain": [
       "[<matplotlib.lines.Line2D at 0x115776c50>]"
      ]
     },
     "execution_count": 118,
     "metadata": {},
     "output_type": "execute_result"
    },
    {
     "data": {
      "image/png": "[encoded data removed]",
      "text/plain": [
       "<matplotlib.figure.Figure at 0x115776ac8>"
      ]
     },
     "metadata": {},
     "output_type": "display_data"
    }
   ],
   "source": [
    "plt.hist(médiasn2,normed=True)\n",
    "plt.plot(x, stats.norm.pdf(x, loc=muAmostral, scale=dpAmostral), lw=3, alpha=1,)"
   ]
  },
  {
   "cell_type": "markdown",
   "metadata": {},
   "source": [
    "#### f.\n"
   ]
  },
  {
   "cell_type": "markdown",
   "metadata": {
    "collapsed": true
   },
   "source": [
    "Conforme diz o Teorema do Limite Central e a partir do histograma construido, é possível ver que a distribuição das medias das amostras, que tem distribuição de gumbel, se assemelha com a normal, apesar de ainda se parecer com a gumbel."
   ]
  },
  {
   "cell_type": "markdown",
   "metadata": {},
   "source": [
    "# Item 3\n"
   ]
  },
  {
   "cell_type": "markdown",
   "metadata": {},
   "source": [
    "## <font color='red'>N = 4</font>"
   ]
  },
  {
   "cell_type": "code",
   "execution_count": 136,
   "metadata": {
    "collapsed": false
   },
   "outputs": [
    {
     "name": "stdout",
     "output_type": "stream",
     "text": [
      "Esperança: 5.910241610289625\n",
      "Variância: 20.520371496232357\n"
     ]
    }
   ],
   "source": [
    "médiasn4 = calcula_medias_amostrais(x,2,10000)\n",
    "\n",
    "médiasn4 = pd.Series(médiasn4)\n",
    "\n",
    "muAmostraln4 = médiasn4.mean()\n",
    "varAmostraln4 = médiasn4.var()\n",
    "dpAmostraln4 = math.sqrt(varAmostraln4)\n",
    "\n",
    "print(\"Esperança:\", muAmostraln4)\n",
    "print(\"Variância:\", varAmostraln4)"
   ]
  },
  {
   "cell_type": "code",
   "execution_count": 138,
   "metadata": {
    "collapsed": false,
    "scrolled": true
   },
   "outputs": [
    {
     "data": {
      "text/plain": [
       "<matplotlib.text.Text at 0x1183cd3c8>"
      ]
     },
     "execution_count": 138,
     "metadata": {},
     "output_type": "execute_result"
    },
    {
     "data": {
      "image/png": "[encoded data removed]",
      "text/plain": [
       "<matplotlib.figure.Figure at 0x11839a898>"
      ]
     },
     "metadata": {},
     "output_type": "display_data"
    }
   ],
   "source": [
    "plt.hist(médiasn4,normed=True)\n",
    "plt.plot(x, stats.norm.pdf(x, loc=muAmostraln4, scale=dpAmostraln4), lw=3, alpha=1,)\n",
    "plt.title('N = 4')"
   ]
  },
  {
   "cell_type": "markdown",
   "metadata": {},
   "source": [
    "## <font color='red'>N = 20</font>"
   ]
  },
  {
   "cell_type": "code",
   "execution_count": 132,
   "metadata": {
    "collapsed": false
   },
   "outputs": [
    {
     "name": "stdout",
     "output_type": "stream",
     "text": [
      "Esperança: 5.875268575313846\n",
      "Variância: 2.0726173724982435\n"
     ]
    }
   ],
   "source": [
    "médiasn20 = calcula_medias_amostrais(x,20,10000)\n",
    "\n",
    "médiasn20 = pd.Series(médiasn20)\n",
    "\n",
    "muAmostraln20 = médiasn20.mean()\n",
    "varAmostraln20 = médiasn20.var()\n",
    "dpAmostraln20 = math.sqrt(varAmostraln20)\n",
    "\n",
    "print(\"Esperança:\", muAmostraln20)\n",
    "print(\"Variância:\", varAmostraln20)"
   ]
  },
  {
   "cell_type": "code",
   "execution_count": 133,
   "metadata": {
    "collapsed": false,
    "scrolled": true
   },
   "outputs": [
    {
     "data": {
      "text/plain": [
       "<matplotlib.text.Text at 0x116f62c50>"
      ]
     },
     "execution_count": 133,
     "metadata": {},
     "output_type": "execute_result"
    },
    {
     "data": {
      "image/png": "[encoded data removed]",
      "text/plain": [
       "<matplotlib.figure.Figure at 0x116b97898>"
      ]
     },
     "metadata": {},
     "output_type": "display_data"
    }
   ],
   "source": [
    "plt.hist(médiasn20,normed=True)\n",
    "plt.plot(x, stats.norm.pdf(x, loc=muAmostraln20, scale=dpAmostraln20), lw=3, alpha=1,)\n",
    "plt.title('N = 20')"
   ]
  },
  {
   "cell_type": "markdown",
   "metadata": {},
   "source": [
    "## <font color='red'>N = 50</font>"
   ]
  },
  {
   "cell_type": "code",
   "execution_count": 134,
   "metadata": {
    "collapsed": false
   },
   "outputs": [
    {
     "name": "stdout",
     "output_type": "stream",
     "text": [
      "Esperança: 5.889490745617459\n",
      "Variância: 0.8178002748423802\n"
     ]
    }
   ],
   "source": [
    "médiasn50 = calcula_medias_amostrais(x,50,10000)\n",
    "\n",
    "médiasn50 = pd.Series(médiasn50)\n",
    "\n",
    "muAmostraln50 = médiasn50.mean()\n",
    "varAmostraln50 = médiasn50.var()\n",
    "dpAmostraln50 = math.sqrt(varAmostraln50)\n",
    "\n",
    "print(\"Esperança:\", muAmostraln50)\n",
    "print(\"Variância:\", varAmostraln50)"
   ]
  },
  {
   "cell_type": "code",
   "execution_count": 135,
   "metadata": {
    "collapsed": false
   },
   "outputs": [
    {
     "data": {
      "text/plain": [
       "<matplotlib.text.Text at 0x117995240>"
      ]
     },
     "execution_count": 135,
     "metadata": {},
     "output_type": "execute_result"
    },
    {
     "data": {
      "image/png": "[encoded data removed]",
      "text/plain": [
       "<matplotlib.figure.Figure at 0x116fb4a58>"
      ]
     },
     "metadata": {},
     "output_type": "display_data"
    }
   ],
   "source": [
    "plt.hist(médiasn50,normed=True)\n",
    "plt.plot(x, stats.norm.pdf(x, loc=muAmostraln50, scale=dpAmostraln50), lw=3, alpha=1,)\n",
    "plt.title('N = 50')"
   ]
  },
  {
   "cell_type": "markdown",
   "metadata": {},
   "source": [
    "# Item 4\n"
   ]
  },
  {
   "cell_type": "markdown",
   "metadata": {
    "collapsed": true
   },
   "source": [
    "Conforme aumenta-se o tamanho das amostras (n), a distribuição das médias a assemelha-se cada vez mais à distribuição a normal, o que está de acordo com o Teorema do Limite Central que diz que: conforme o n tende ao infinito, a distribuição de X com media igual a $μ$ e a variancia igual a $ σ^2/n $ é normal."
   ]
  },
  {
   "cell_type": "markdown",
   "metadata": {
    "collapsed": true
   },
   "source": [
    "I."
   ]
  },
  {
   "cell_type": "code",
   "execution_count": 55,
   "metadata": {
    "collapsed": true
   },
   "outputs": [],
   "source": [
    "def sorteia_n1_e_n2(lista,n,repeticoes,n1,n2):\n",
    "    lista_n1 = []\n",
    "    lista_n2 = []\n",
    "    for i in range(repeticoes):\n",
    "        valores = np.random.choice(lista,n)\n",
    "        lista_n1.append(valores[n1-1])\n",
    "        lista_n2.append(valores[n2-2]) \n",
    "        \n",
    "    return lista_n1, lista_n2"
   ]
  },
  {
   "cell_type": "code",
   "execution_count": 56,
   "metadata": {
    "collapsed": false
   },
   "outputs": [],
   "source": [
    "listax1, listax9 = sorteia_n1_e_n2(x,50,10000,1,9)"
   ]
  },
  {
   "cell_type": "code",
   "execution_count": 57,
   "metadata": {
    "collapsed": false,
    "scrolled": true
   },
   "outputs": [
    {
     "name": "stdout",
     "output_type": "stream",
     "text": [
      "10000\n",
      "10000\n"
     ]
    }
   ],
   "source": [
    "print(len(listax1))\n",
    "print(len(listax9))"
   ]
  },
  {
   "cell_type": "markdown",
   "metadata": {},
   "source": [
    "II."
   ]
  },
  {
   "cell_type": "code",
   "execution_count": 58,
   "metadata": {
    "collapsed": false
   },
   "outputs": [
    {
     "data": {
      "text/plain": [
       "<matplotlib.text.Text at 0x117189518>"
      ]
     },
     "execution_count": 58,
     "metadata": {},
     "output_type": "execute_result"
    },
    {
     "data": {
      "image/png": "[encoded data removed]",
      "text/plain": [
       "<matplotlib.figure.Figure at 0x116979b00>"
      ]
     },
     "metadata": {},
     "output_type": "display_data"
    }
   ],
   "source": [
    "listax1 = pd.Series(listax1)\n",
    "\n",
    "plt.hist(listax1,normed=True)\n",
    "plt.title('Lista X1')"
   ]
  },
  {
   "cell_type": "markdown",
   "metadata": {},
   "source": [
    "III."
   ]
  },
  {
   "cell_type": "code",
   "execution_count": 59,
   "metadata": {
    "collapsed": false
   },
   "outputs": [
    {
     "data": {
      "text/plain": [
       "<matplotlib.text.Text at 0x11749d438>"
      ]
     },
     "execution_count": 59,
     "metadata": {},
     "output_type": "execute_result"
    },
    {
     "data": {
      "image/png": "[encoded data removed]",
      "text/plain": [
       "<matplotlib.figure.Figure at 0x11747cb70>"
      ]
     },
     "metadata": {},
     "output_type": "display_data"
    }
   ],
   "source": [
    "listax9 = pd.Series(listax9)\n",
    "\n",
    "plt.hist(listax9,normed=True)\n",
    "plt.title('Lista X9')"
   ]
  },
  {
   "cell_type": "markdown",
   "metadata": {},
   "source": [
    "IV."
   ]
  },
  {
   "cell_type": "code",
   "execution_count": 64,
   "metadata": {
    "collapsed": false
   },
   "outputs": [
    {
     "data": {
      "text/plain": [
       "<matplotlib.text.Text at 0x127d36a90>"
      ]
     },
     "execution_count": 64,
     "metadata": {},
     "output_type": "execute_result"
    },
    {
     "data": {
      "image/png": "[encoded data removed]",
      "text/plain": [
       "<matplotlib.figure.Figure at 0x125d0fda0>"
      ]
     },
     "metadata": {},
     "output_type": "display_data"
    }
   ],
   "source": [
    "plt.plot(x, stats.gumbel_r.pdf(x, loc=muPop, scale=dpPop), lw=3, alpha=1,)\n",
    "plt.hist(listax1,normed=True)\n",
    "plt.title('Lista X1 vs. Distribuição Gumbel')"
   ]
  },
  {
   "cell_type": "code",
   "execution_count": 66,
   "metadata": {
    "collapsed": false,
    "scrolled": true
   },
   "outputs": [
    {
     "data": {
      "text/plain": [
       "<matplotlib.text.Text at 0x12acce550>"
      ]
     },
     "execution_count": 66,
     "metadata": {},
     "output_type": "execute_result"
    },
    {
     "data": {
      "image/png": "[encoded data removed]",
      "text/plain": [
       "<matplotlib.figure.Figure at 0x1294c10f0>"
      ]
     },
     "metadata": {},
     "output_type": "display_data"
    }
   ],
   "source": [
    "plt.plot(x, stats.gumbel_r.pdf(x, loc=muPop, scale=dpPop), lw=3, alpha=1,)\n",
    "plt.hist(listax9,normed=True)\n",
    "plt.title('Lista X9 vs. Distribuição Gumbel')"
   ]
  },
  {
   "cell_type": "markdown",
   "metadata": {
    "collapsed": true
   },
   "source": [
    "As distribuições são muito parecidas com o modelo escolhido, porém não são exatamente iguais."
   ]
  },
  {
   "cell_type": "markdown",
   "metadata": {},
   "source": [
    "V."
   ]
  },
  {
   "cell_type": "code",
   "execution_count": 62,
   "metadata": {
    "collapsed": false
   },
   "outputs": [
    {
     "name": "stdout",
     "output_type": "stream",
     "text": [
      "Correlação entre lista x1 e x9: -0.00833202582449\n"
     ]
    }
   ],
   "source": [
    "corre_X1_e_X9 = np.corrcoef(listax1,listax9)[0][1]\n",
    "print(\"Correlação entre lista x1 e x9:\", corre_X1_e_X9)"
   ]
  },
  {
   "cell_type": "code",
   "execution_count": null,
   "metadata": {
    "collapsed": true
   },
   "outputs": [],
   "source": []
  }
 ],
 "metadata": {
  "kernelspec": {
   "display_name": "Python 3",
   "language": "python",
   "name": "python3"
  },
  "language_info": {
   "codemirror_mode": {
    "name": "ipython",
    "version": 3
   },
   "file_extension": ".py",
   "mimetype": "text/x-python",
   "name": "python",
   "nbconvert_exporter": "python",
   "pygments_lexer": "ipython3",
   "version": "3.5.1"
  }
 },
 "nbformat": 4,
 "nbformat_minor": 0
}
