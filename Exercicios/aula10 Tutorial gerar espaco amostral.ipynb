{
 "cells": [
  {
   "cell_type": "markdown",
   "metadata": {
    "collapsed": false
   },
   "source": [
    "___\n",
    "# Tutorial: Exploração de espaço amostral em Python\n",
    "___\n",
    "\n",
    "## Aula 10\n",
    "\n",
    "**Referência de Leitura:**\n",
    "1. Magalhães e Lima (7ª. Edição): pág. 82 a 84 - Modelo Bernoulli e Modelo Binomial\n",
    "___"
   ]
  },
  {
   "cell_type": "markdown",
   "metadata": {},
   "source": [
    "### Espaço Amostral e respectivas probabilidades!\n",
    "\n",
    "Considere que um corretor irá visitar três clientes para venda de um seguro.\n",
    "\n",
    "Em cada visita, definamos os dois possíveis resultados como  $S$: sucesso com relação à venda e $F$: fracasso com relação à venda ($F$ é equivalente ao $S^c$).\n",
    "\n",
    "A probabilidade de uma visita resultar em venda é de 20%. E, ainda, assuma que os clientes adquirem seguro de forma independente um do outro."
   ]
  },
  {
   "cell_type": "code",
   "execution_count": 21,
   "metadata": {
    "collapsed": true
   },
   "outputs": [],
   "source": [
    "import itertools #importante para gerar todos os resultados possíveis!!"
   ]
  },
  {
   "cell_type": "code",
   "execution_count": 22,
   "metadata": {
    "collapsed": true
   },
   "outputs": [],
   "source": [
    "possibilidades = [\"S\", \"F\"]"
   ]
  },
  {
   "cell_type": "markdown",
   "metadata": {},
   "source": [
    "Vamos atribuir a cada resultado possível sua probabilidade usando um dicionário:\n",
    "\n",
    "<font color=red>Importante!</font> A soma dessas probabilidades deve ser igual a 1."
   ]
  },
  {
   "cell_type": "code",
   "execution_count": 23,
   "metadata": {
    "collapsed": true
   },
   "outputs": [],
   "source": [
    "prob = {\"S\": 0.2, \"F\":0.8}"
   ]
  },
  {
   "cell_type": "markdown",
   "metadata": {},
   "source": [
    "Vamos gerar todos os arranjos possíveis de 3 eventos, ou seja, de 3 clientes!"
   ]
  },
  {
   "cell_type": "code",
   "execution_count": 24,
   "metadata": {
    "collapsed": false
   },
   "outputs": [],
   "source": [
    "arranjos = itertools.product(possibilidades, repeat=3)\n",
    "espaco_amostral = list(arranjos)"
   ]
  },
  {
   "cell_type": "markdown",
   "metadata": {},
   "source": [
    "Todos os resultados possíveis (espaço amostral):"
   ]
  },
  {
   "cell_type": "code",
   "execution_count": 25,
   "metadata": {
    "collapsed": false
   },
   "outputs": [
    {
     "data": {
      "text/plain": [
       "[('S', 'S', 'S'),\n",
       " ('S', 'S', 'F'),\n",
       " ('S', 'F', 'S'),\n",
       " ('S', 'F', 'F'),\n",
       " ('F', 'S', 'S'),\n",
       " ('F', 'S', 'F'),\n",
       " ('F', 'F', 'S'),\n",
       " ('F', 'F', 'F')]"
      ]
     },
     "execution_count": 25,
     "metadata": {},
     "output_type": "execute_result"
    }
   ],
   "source": [
    "espaco_amostral"
   ]
  },
  {
   "cell_type": "markdown",
   "metadata": {},
   "source": [
    "Vamos calcular a probabilidade de cada um dos possíveis resultados!"
   ]
  },
  {
   "cell_type": "code",
   "execution_count": 33,
   "metadata": {
    "collapsed": false
   },
   "outputs": [
    {
     "data": {
      "text/plain": [
       "[0.008000000000000002,\n",
       " 0.03200000000000001,\n",
       " 0.03200000000000001,\n",
       " 0.12800000000000003,\n",
       " 0.03200000000000001,\n",
       " 0.12800000000000003,\n",
       " 0.12800000000000003,\n",
       " 0.5120000000000001]"
      ]
     },
     "execution_count": 33,
     "metadata": {},
     "output_type": "execute_result"
    }
   ],
   "source": [
    "prob_linhas = []\n",
    "\n",
    "for res in espaco_amostral:\n",
    "    p = 1.0\n",
    "    for e in res:\n",
    "        p*=prob[e]\n",
    "    prob_linhas.append(p)\n",
    "\n",
    "prob_linhas"
   ]
  },
  {
   "cell_type": "markdown",
   "metadata": {},
   "source": [
    "Vamos verificar que a soma das probabilidades de todos os eventos do espaço amostral é 1!"
   ]
  },
  {
   "cell_type": "code",
   "execution_count": 27,
   "metadata": {
    "collapsed": false
   },
   "outputs": [
    {
     "data": {
      "text/plain": [
       "1.0000000000000002"
      ]
     },
     "execution_count": 27,
     "metadata": {},
     "output_type": "execute_result"
    }
   ],
   "source": [
    "sum(prob_linhas)"
   ]
  },
  {
   "cell_type": "markdown",
   "metadata": {
    "collapsed": true
   },
   "source": [
    "___\n",
    "### Construindo a distribuição de probabilidades da variável aleatória $X$ - comissão\n",
    "\n",
    "Assuma que a comissão do corretor por cada seguro vendido é igual a R\\$150,00.\n",
    "\n",
    "Se $Y$ representa o número de seguros vendidos pelo corretor ao final das três visitas, então a comissão pode ser escrita por $X=150Y$.\n",
    "\n",
    "Note que vários resultados diferentes do espaço amostral podem contribuir para a probabilidade de um mesmo valor da variável aleatória comissão. \n",
    "\n",
    "Por este motivo, é conveniente usar a variável aleatória como chave de um dicionário e as probabilidades como valor armazenado."
   ]
  },
  {
   "cell_type": "code",
   "execution_count": 28,
   "metadata": {
    "collapsed": true
   },
   "outputs": [],
   "source": [
    "# Dicionário para acumular a variável aleatória. \n",
    "valores_X = {}"
   ]
  },
  {
   "cell_type": "code",
   "execution_count": 34,
   "metadata": {
    "collapsed": false
   },
   "outputs": [
    {
     "name": "stdout",
     "output_type": "stream",
     "text": [
      "450 ('S', 'S', 'S')\n",
      "300 ('S', 'S', 'F')\n",
      "300 ('S', 'F', 'S')\n",
      "150 ('S', 'F', 'F')\n",
      "300 ('F', 'S', 'S')\n",
      "150 ('F', 'S', 'F')\n",
      "150 ('F', 'F', 'S')\n",
      "0 ('F', 'F', 'F')\n"
     ]
    }
   ],
   "source": [
    "for i in range(len(espaco_amostral)):\n",
    "    custo = espaco_amostral[i].count(\"S\")*150\n",
    "    # Checar antes se a chave está no dicionário\n",
    "    if custo in valores_X:\n",
    "        valores_X[custo] += prob_linhas[i]\n",
    "    else:\n",
    "        valores_X[custo] = prob_linhas[i]\n",
    "    \n",
    "    "
   ]
  },
  {
   "cell_type": "markdown",
   "metadata": {},
   "source": [
    "Distribuição de probabilidades da variável aleatória $X$ - comissão"
   ]
  },
  {
   "cell_type": "code",
   "execution_count": 30,
   "metadata": {
    "collapsed": false
   },
   "outputs": [
    {
     "name": "stdout",
     "output_type": "stream",
     "text": [
      "Comissão:  0  Probabilidade 0.51200 \n",
      "Comissão:  450  Probabilidade 0.00800 \n",
      "Comissão:  300  Probabilidade 0.09600 \n",
      "Comissão:  150  Probabilidade 0.38400 \n"
     ]
    }
   ],
   "source": [
    "for k in valores_X:\n",
    "    print(\"Comissão: \", k, \" Probabilidade\", \"%6.5f \"%valores_X[k])"
   ]
  },
  {
   "cell_type": "code",
   "execution_count": null,
   "metadata": {
    "collapsed": true
   },
   "outputs": [],
   "source": [
    "prob = {'F':0.2,'NF':0.8}\n",
    "possibilidadess = [\"F\", \"NF\"]"
   ]
  },
  {
   "cell_type": "code",
   "execution_count": null,
   "metadata": {
    "collapsed": false
   },
   "outputs": [],
   "source": [
    "arranjos = itertools.product(possibilidadess, repeat=100)\n",
    "espaco_amostral = list(arranjos)"
   ]
  },
  {
   "cell_type": "code",
   "execution_count": null,
   "metadata": {
    "collapsed": false
   },
   "outputs": [],
   "source": [
    "prob_linhas = []\n",
    "\n",
    "for res in espaco_amostral:\n",
    "    p = 1.0\n",
    "    for e in res:\n",
    "        p*=prob[e]\n",
    "    prob_linhas.append(p)\n"
   ]
  },
  {
   "cell_type": "code",
   "execution_count": null,
   "metadata": {
    "collapsed": false
   },
   "outputs": [],
   "source": [
    "valores_C = {}\n",
    "\n",
    "for i in range(len(espaco_amostral)):\n",
    "    contagem = espaco_amostral[i].count(\"NF\")\n",
    "    if contagem in valores_C:\n",
    "        valores_C[contagem] += prob_linhas[i]\n",
    "    else:\n",
    "        valores_C[contagem] = prob_linhas[i]\n",
    "\n",
    "valores_C\n",
    "    "
   ]
  },
  {
   "cell_type": "code",
   "execution_count": null,
   "metadata": {
    "collapsed": true
   },
   "outputs": [],
   "source": []
  },
  {
   "cell_type": "code",
   "execution_count": null,
   "metadata": {
    "collapsed": true
   },
   "outputs": [],
   "source": []
  }
 ],
 "metadata": {
  "anaconda-cloud": {},
  "kernelspec": {
   "display_name": "Python 3",
   "language": "python",
   "name": "python3"
  },
  "language_info": {
   "codemirror_mode": {
    "name": "ipython",
    "version": 3
   },
   "file_extension": ".py",
   "mimetype": "text/x-python",
   "name": "python",
   "nbconvert_exporter": "python",
   "pygments_lexer": "ipython3",
   "version": "3.5.2"
  }
 },
 "nbformat": 4,
 "nbformat_minor": 0
}
